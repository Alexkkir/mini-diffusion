{
 "cells": [
  {
   "cell_type": "code",
   "execution_count": 1,
   "metadata": {},
   "outputs": [
    {
     "name": "stdout",
     "output_type": "stream",
     "text": [
      "/home/akkirr/annotated-diffusion\n"
     ]
    }
   ],
   "source": [
    "%load_ext autoreload\n",
    "%autoreload 2\n",
    "%cd .."
   ]
  },
  {
   "cell_type": "code",
   "execution_count": 2,
   "metadata": {},
   "outputs": [],
   "source": [
    "%matplotlib inline\n",
    "import matplotlib.pyplot as plt\n",
    "from tqdm.auto import tqdm\n",
    "from pathlib import Path\n",
    "\n",
    "import torch\n",
    "from torch import nan_to_num\n",
    "from torchvision import transforms as T\n",
    "from torch.utils.data import DataLoader\n",
    "\n",
    "import numpy as np\n",
    "from PIL import Image\n",
    "import requests\n",
    "\n",
    "from datasets import load_dataset\n",
    "from torchvision.utils import save_image\n",
    "from torch.optim import Adam\n",
    "\n",
    "from copy import deepcopy\n",
    "import os"
   ]
  },
  {
   "cell_type": "code",
   "execution_count": 3,
   "metadata": {},
   "outputs": [],
   "source": [
    "from mylib import *\n",
    "import mylora\n",
    "import lora_diffusion\n",
    "\n",
    "os.environ[\"CUDA_VISIBLE_DEVICES\"] = \"3\""
   ]
  },
  {
   "cell_type": "code",
   "execution_count": 4,
   "metadata": {},
   "outputs": [],
   "source": [
    "sampler = Sampler(linear_beta_schedule, 300)"
   ]
  },
  {
   "cell_type": "code",
   "execution_count": 5,
   "metadata": {},
   "outputs": [
    {
     "data": {
      "text/plain": [
       "{\n",
       "    \"results_folder\": \"PosixPath('results-cifar/1-baseline')\",\n",
       "    \"image_size\": 28,\n",
       "    \"channels\": 3,\n",
       "    \"batch_size\": 128,\n",
       "    \"device\": \"cuda\",\n",
       "    \"checkpoint\": \"checkpoints/4-cifar-colored.pt\"\n",
       "}"
      ]
     },
     "execution_count": 5,
     "metadata": {},
     "output_type": "execute_result"
    }
   ],
   "source": [
    "settings = Settings(\n",
    "    results_folder = Path(\"./results-cifar/1-baseline\"),\n",
    "    image_size = 28,\n",
    "    channels = 3,\n",
    "    batch_size = 128,\n",
    "    device = \"cuda\" if torch.cuda.is_available() else \"cpu\",\n",
    "    checkpoint = 'checkpoints/4-cifar-colored.pt'\n",
    ")\n",
    "settings"
   ]
  },
  {
   "cell_type": "code",
   "execution_count": 6,
   "metadata": {},
   "outputs": [],
   "source": [
    "settings.results_folder.mkdir(exist_ok=True, parents=True)"
   ]
  },
  {
   "cell_type": "code",
   "execution_count": 7,
   "metadata": {},
   "outputs": [
    {
     "name": "stderr",
     "output_type": "stream",
     "text": [
      "Found cached dataset cifar10 (/home/akkirr/.cache/huggingface/datasets/cifar10/plain_text/1.0.0/447d6ec4733dddd1ce3bb577c7166b986eaa4c538dcd9e805ba61f35674a9de4)\n"
     ]
    },
    {
     "data": {
      "application/vnd.jupyter.widget-view+json": {
       "model_id": "822d7ceff9194d47ac0e8e15d0aa6069",
       "version_major": 2,
       "version_minor": 0
      },
      "text/plain": [
       "  0%|          | 0/2 [00:00<?, ?it/s]"
      ]
     },
     "metadata": {},
     "output_type": "display_data"
    }
   ],
   "source": [
    "dataset = load_dataset(\"cifar10\")\n",
    "# define image transformations (e.g. using torchvision)\n",
    "transform = Compose([\n",
    "            T.RandomHorizontalFlip(),\n",
    "            T.ToTensor(),\n",
    "            T.Lambda(lambda t: (t * 2) - 1)\n",
    "])\n",
    "\n",
    "# define function\n",
    "def transforms(examples):\n",
    "   examples[\"pixel_values\"] = [transform(image) for image in examples[\"img\"]]\n",
    "   del examples[\"img\"]\n",
    "\n",
    "   return examples\n",
    "\n",
    "transformed_dataset = dataset.with_transform(transforms).remove_columns(\"label\")\n",
    "\n",
    "# create dataloader\n",
    "dataloader = DataLoader(transformed_dataset[\"train\"], batch_size=settings.batch_size, shuffle=True)"
   ]
  },
  {
   "attachments": {},
   "cell_type": "markdown",
   "metadata": {},
   "source": [
    "# Train baseline"
   ]
  },
  {
   "cell_type": "code",
   "execution_count": null,
   "metadata": {},
   "outputs": [],
   "source": [
    "set_all_seeds()\n",
    "model = Unet(\n",
    "    dim=settings.image_size,\n",
    "    channels=settings.channels,\n",
    "    dim_mults=(1, 2, 4,)\n",
    ")\n",
    "\n",
    "model.to(settings.device)\n",
    "mylora.model_summary(model)"
   ]
  },
  {
   "cell_type": "code",
   "execution_count": null,
   "metadata": {},
   "outputs": [],
   "source": [
    "optimizer = Adam(model.parameters(), lr=1e-3)\n",
    "train(model, optimizer, dataloader, sampler, settings, epochs=10)"
   ]
  },
  {
   "cell_type": "code",
   "execution_count": 8,
   "metadata": {},
   "outputs": [
    {
     "name": "stdout",
     "output_type": "stream",
     "text": [
      "gifski created /home/akkirr/annotated-diffusion/results-cifar/1-baseline/sample.gif"
     ]
    }
   ],
   "source": [
    "folder = str(settings.results_folder)\n",
    "! /home/akkirr/.cargo/bin/gifski -o $folder/sample.gif -r 7 $folder/sample-*.png"
   ]
  },
  {
   "cell_type": "code",
   "execution_count": null,
   "metadata": {},
   "outputs": [],
   "source": [
    "torch.save(model.state_dict(), settings.checkpoint)"
   ]
  },
  {
   "attachments": {},
   "cell_type": "markdown",
   "metadata": {},
   "source": [
    "# Train lora "
   ]
  },
  {
   "cell_type": "code",
   "execution_count": null,
   "metadata": {},
   "outputs": [
    {
     "name": "stdout",
     "output_type": "stream",
     "text": [
      "Injected lora    28 x 2 x 384   in downs.0.2.fn.fn.to_qkv\n",
      "Injected lora   128 x 2 x 28    in downs.0.2.fn.fn.0\n",
      "Injected lora    28 x 2 x 384   in downs.1.2.fn.fn.to_qkv\n",
      "Injected lora   128 x 2 x 28    in downs.1.2.fn.fn.0\n",
      "Injected lora    56 x 2 x 384   in downs.2.2.fn.fn.to_qkv\n",
      "Injected lora   128 x 2 x 56    in downs.2.2.fn.fn.0\n",
      "Injected lora   112 x 2 x 384   in ups.0.2.fn.fn.to_qkv\n",
      "Injected lora   128 x 2 x 112   in ups.0.2.fn.fn.0\n",
      "Injected lora    56 x 2 x 384   in ups.1.2.fn.fn.to_qkv\n",
      "Injected lora   128 x 2 x 56    in ups.1.2.fn.fn.0\n",
      "Injected lora    28 x 2 x 384   in ups.2.2.fn.fn.to_qkv\n",
      "Injected lora   128 x 2 x 28    in ups.2.2.fn.fn.0\n",
      "\n",
      "trainable layers:            24\n",
      "frozen layers:              231\n",
      "total params:           2027747\n"
     ]
    }
   ],
   "source": [
    "set_all_seeds()\n",
    "model = Unet(\n",
    "    dim=settings.image_size,\n",
    "    channels=settings.channels,\n",
    "    dim_mults=(1, 2, 4,)\n",
    ")\n",
    "model.load_state_dict(torch.load(settings.checkpoint))\n",
    "\n",
    "mylora.inject_lora(\n",
    "    model, 2, 0.4,\n",
    "    ['LinearAttention'],\n",
    "    [nn.Conv2d]\n",
    ")\n",
    "model.to(settings.device)\n",
    "\n",
    "mylora.freeze_lora(model)\n",
    "print()\n",
    "mylora.model_summary(model)"
   ]
  },
  {
   "cell_type": "code",
   "execution_count": null,
   "metadata": {},
   "outputs": [],
   "source": [
    "def transforms(examples):\n",
    "   examples[\"pixel_values\"] = [transform(image.convert('L').convert('RGB')) for image in examples[\"img\"]]\n",
    "   del examples[\"img\"]\n",
    "\n",
    "   return examples\n",
    "\n",
    "transformed_dataset = dataset.with_transform(transforms).remove_columns(\"label\")\n",
    "\n",
    "# create dataloader\n",
    "dataloader = DataLoader(transformed_dataset[\"train\"], batch_size=settings.batch_size, shuffle=True)"
   ]
  },
  {
   "cell_type": "code",
   "execution_count": null,
   "metadata": {},
   "outputs": [
    {
     "data": {
      "application/vnd.jupyter.widget-view+json": {
       "model_id": "87579e95f37948ef99f8d6120211af22",
       "version_major": 2,
       "version_minor": 0
      },
      "text/plain": [
       "sampling loop time step:   0%|          | 0/300 [00:00<?, ?it/s]"
      ]
     },
     "metadata": {},
     "output_type": "display_data"
    },
    {
     "name": "stdout",
     "output_type": "stream",
     "text": [
      "Loss: 0.021473567932844162\n",
      "Loss: 0.024918898940086365\n",
      "Loss: 0.02179855853319168\n",
      "Loss: 0.024604542180895805\n"
     ]
    },
    {
     "data": {
      "application/vnd.jupyter.widget-view+json": {
       "model_id": "7cda1ad9aa7348c5af037ec4a8f169ca",
       "version_major": 2,
       "version_minor": 0
      },
      "text/plain": [
       "sampling loop time step:   0%|          | 0/300 [00:00<?, ?it/s]"
      ]
     },
     "metadata": {},
     "output_type": "display_data"
    },
    {
     "name": "stdout",
     "output_type": "stream",
     "text": [
      "Loss: 0.020823504775762558\n",
      "Loss: 0.024760788306593895\n",
      "Loss: 0.021668439731001854\n",
      "Loss: 0.02450842224061489\n"
     ]
    },
    {
     "data": {
      "application/vnd.jupyter.widget-view+json": {
       "model_id": "3ea78938328a418bb9f705b36fb24132",
       "version_major": 2,
       "version_minor": 0
      },
      "text/plain": [
       "sampling loop time step:   0%|          | 0/300 [00:00<?, ?it/s]"
      ]
     },
     "metadata": {},
     "output_type": "display_data"
    },
    {
     "name": "stdout",
     "output_type": "stream",
     "text": [
      "Loss: 0.02077310159802437\n",
      "Loss: 0.024704869836568832\n",
      "Loss: 0.02161295711994171\n",
      "Loss: 0.024459373205900192\n"
     ]
    },
    {
     "data": {
      "application/vnd.jupyter.widget-view+json": {
       "model_id": "a1d0e79dba44443c8c4b32547f28a91e",
       "version_major": 2,
       "version_minor": 0
      },
      "text/plain": [
       "sampling loop time step:   0%|          | 0/300 [00:00<?, ?it/s]"
      ]
     },
     "metadata": {},
     "output_type": "display_data"
    },
    {
     "name": "stdout",
     "output_type": "stream",
     "text": [
      "Loss: 0.020757650956511497\n",
      "Loss: 0.024674801155924797\n",
      "Loss: 0.021580655127763748\n",
      "Loss: 0.024433648213744164\n"
     ]
    },
    {
     "data": {
      "application/vnd.jupyter.widget-view+json": {
       "model_id": "075a290739ee46408fb350edd8b29f0c",
       "version_major": 2,
       "version_minor": 0
      },
      "text/plain": [
       "sampling loop time step:   0%|          | 0/300 [00:00<?, ?it/s]"
      ]
     },
     "metadata": {},
     "output_type": "display_data"
    },
    {
     "name": "stdout",
     "output_type": "stream",
     "text": [
      "Loss: 0.020747873932123184\n",
      "Loss: 0.024654865264892578\n",
      "Loss: 0.02155657857656479\n",
      "Loss: 0.024414589628577232\n"
     ]
    },
    {
     "data": {
      "application/vnd.jupyter.widget-view+json": {
       "model_id": "2dab356740de4e9f99cd65ac9b42e603",
       "version_major": 2,
       "version_minor": 0
      },
      "text/plain": [
       "sampling loop time step:   0%|          | 0/300 [00:00<?, ?it/s]"
      ]
     },
     "metadata": {},
     "output_type": "display_data"
    },
    {
     "name": "stdout",
     "output_type": "stream",
     "text": [
      "Loss: 0.020738670602440834\n",
      "Loss: 0.024639418348670006\n",
      "Loss: 0.021537702530622482\n",
      "Loss: 0.024399619549512863\n"
     ]
    },
    {
     "data": {
      "application/vnd.jupyter.widget-view+json": {
       "model_id": "865585e0ea12422aa0fd3668615f641a",
       "version_major": 2,
       "version_minor": 0
      },
      "text/plain": [
       "sampling loop time step:   0%|          | 0/300 [00:00<?, ?it/s]"
      ]
     },
     "metadata": {},
     "output_type": "display_data"
    },
    {
     "name": "stdout",
     "output_type": "stream",
     "text": [
      "Loss: 0.020729348063468933\n",
      "Loss: 0.024627139791846275\n",
      "Loss: 0.021523132920265198\n",
      "Loss: 0.02438758686184883\n"
     ]
    },
    {
     "data": {
      "application/vnd.jupyter.widget-view+json": {
       "model_id": "3ea3f227c99d455e998b454c77663edb",
       "version_major": 2,
       "version_minor": 0
      },
      "text/plain": [
       "sampling loop time step:   0%|          | 0/300 [00:00<?, ?it/s]"
      ]
     },
     "metadata": {},
     "output_type": "display_data"
    },
    {
     "name": "stdout",
     "output_type": "stream",
     "text": [
      "Loss: 0.020720016211271286\n",
      "Loss: 0.024616152048110962\n",
      "Loss: 0.02151203155517578\n",
      "Loss: 0.024378424510359764\n"
     ]
    },
    {
     "data": {
      "application/vnd.jupyter.widget-view+json": {
       "model_id": "d4db6a7e4fa7463b9c50e28cccc521dd",
       "version_major": 2,
       "version_minor": 0
      },
      "text/plain": [
       "sampling loop time step:   0%|          | 0/300 [00:00<?, ?it/s]"
      ]
     },
     "metadata": {},
     "output_type": "display_data"
    },
    {
     "name": "stdout",
     "output_type": "stream",
     "text": [
      "Loss: 0.02071075513958931\n",
      "Loss: 0.024606024846434593\n",
      "Loss: 0.021503090858459473\n",
      "Loss: 0.024371594190597534\n"
     ]
    },
    {
     "data": {
      "application/vnd.jupyter.widget-view+json": {
       "model_id": "d98095a6dafe43d58479c369f653b8f5",
       "version_major": 2,
       "version_minor": 0
      },
      "text/plain": [
       "sampling loop time step:   0%|          | 0/300 [00:00<?, ?it/s]"
      ]
     },
     "metadata": {},
     "output_type": "display_data"
    },
    {
     "name": "stdout",
     "output_type": "stream",
     "text": [
      "Loss: 0.020701846107840538\n",
      "Loss: 0.024596666917204857\n",
      "Loss: 0.021495385095477104\n",
      "Loss: 0.024366270750761032\n"
     ]
    },
    {
     "data": {
      "application/vnd.jupyter.widget-view+json": {
       "model_id": "817cb2aa3fb74002bbfd6081c020c6f0",
       "version_major": 2,
       "version_minor": 0
      },
      "text/plain": [
       "sampling loop time step:   0%|          | 0/300 [00:00<?, ?it/s]"
      ]
     },
     "metadata": {},
     "output_type": "display_data"
    }
   ],
   "source": [
    "settings.results_folder = Path(\"./results-cifar/2-rank=2_do=0.25\")\n",
    "settings.results_folder.mkdir(exist_ok=True)\n",
    "\n",
    "optimizer = Adam(model.parameters(), lr=1e-3)\n",
    "train(model, optimizer, dataloader, sampler, settings, epochs=10)"
   ]
  },
  {
   "cell_type": "code",
   "execution_count": 9,
   "metadata": {},
   "outputs": [
    {
     "name": "stdout",
     "output_type": "stream",
     "text": [
      "gifski created /home/akkirr/annotated-diffusion/results-cifar/1-baseline/sample.gif"
     ]
    }
   ],
   "source": [
    "folder = str(settings.results_folder)\n",
    "! /home/akkirr/.cargo/bin/gifski -o $folder/sample.gif -r 7 $folder/sample-*.png"
   ]
  },
  {
   "attachments": {},
   "cell_type": "markdown",
   "metadata": {},
   "source": [
    "### Open-source lora"
   ]
  },
  {
   "cell_type": "code",
   "execution_count": 8,
   "metadata": {},
   "outputs": [
    {
     "name": "stdout",
     "output_type": "stream",
     "text": [
      "trainable layers:            24\n",
      "frozen layers:              231\n",
      "total params:           2024059\n"
     ]
    }
   ],
   "source": [
    "set_all_seeds()\n",
    "model = Unet(\n",
    "    dim=settings.image_size,\n",
    "    channels=settings.channels,\n",
    "    dim_mults=(1, 2, 4,)\n",
    ")\n",
    "model.load_state_dict(torch.load(settings.checkpoint))\n",
    "\n",
    "model.requires_grad_(False)\n",
    "unet_lora_params, train_names = lora_diffusion.inject_trainable_lora_extended(\n",
    "    model,\n",
    "    target_replace_module=['LinearAttention'],\n",
    "    r=1,\n",
    ")\n",
    "model.to(settings.device)\n",
    "\n",
    "mylora.model_summary(model)"
   ]
  },
  {
   "cell_type": "code",
   "execution_count": 9,
   "metadata": {},
   "outputs": [],
   "source": [
    "def transforms(examples):\n",
    "   examples[\"pixel_values\"] = [transform(image.convert('L').convert('RGB')) for image in examples[\"img\"]]\n",
    "   del examples[\"img\"]\n",
    "\n",
    "   return examples\n",
    "\n",
    "transformed_dataset = dataset.with_transform(transforms).remove_columns(\"label\")\n",
    "\n",
    "# create dataloader\n",
    "dataloader = DataLoader(transformed_dataset[\"train\"], batch_size=settings.batch_size, shuffle=True)"
   ]
  },
  {
   "cell_type": "code",
   "execution_count": 10,
   "metadata": {},
   "outputs": [
    {
     "data": {
      "application/vnd.jupyter.widget-view+json": {
       "model_id": "b4b5236e3da74ff5ac5ead1f436b4adf",
       "version_major": 2,
       "version_minor": 0
      },
      "text/plain": [
       "sampling loop time step:   0%|          | 0/300 [00:00<?, ?it/s]"
      ]
     },
     "metadata": {},
     "output_type": "display_data"
    },
    {
     "name": "stdout",
     "output_type": "stream",
     "text": [
      "Loss: 0.021473567932844162\n",
      "Loss: 0.02498686872422695\n",
      "Loss: 0.021899407729506493\n",
      "Loss: 0.02471090480685234\n"
     ]
    },
    {
     "data": {
      "application/vnd.jupyter.widget-view+json": {
       "model_id": "3500cf91a7b64b489e01d5f436c5448f",
       "version_major": 2,
       "version_minor": 0
      },
      "text/plain": [
       "sampling loop time step:   0%|          | 0/300 [00:00<?, ?it/s]"
      ]
     },
     "metadata": {},
     "output_type": "display_data"
    },
    {
     "name": "stdout",
     "output_type": "stream",
     "text": [
      "Loss: 0.020921876654028893\n",
      "Loss: 0.02482043020427227\n",
      "Loss: 0.021768230944871902\n",
      "Loss: 0.02462949976325035\n"
     ]
    },
    {
     "data": {
      "application/vnd.jupyter.widget-view+json": {
       "model_id": "462897b8937a470d8a1021a852434360",
       "version_major": 2,
       "version_minor": 0
      },
      "text/plain": [
       "sampling loop time step:   0%|          | 0/300 [00:00<?, ?it/s]"
      ]
     },
     "metadata": {},
     "output_type": "display_data"
    },
    {
     "name": "stdout",
     "output_type": "stream",
     "text": [
      "Loss: 0.020863980054855347\n",
      "Loss: 0.024779578670859337\n",
      "Loss: 0.021728238090872765\n",
      "Loss: 0.024595197290182114\n"
     ]
    },
    {
     "data": {
      "application/vnd.jupyter.widget-view+json": {
       "model_id": "c220890e62f64614be3efe99934d19ac",
       "version_major": 2,
       "version_minor": 0
      },
      "text/plain": [
       "sampling loop time step:   0%|          | 0/300 [00:00<?, ?it/s]"
      ]
     },
     "metadata": {},
     "output_type": "display_data"
    },
    {
     "name": "stdout",
     "output_type": "stream",
     "text": [
      "Loss: 0.02083469182252884\n",
      "Loss: 0.024757003411650658\n",
      "Loss: 0.02170713059604168\n",
      "Loss: 0.02457159012556076\n"
     ]
    },
    {
     "data": {
      "application/vnd.jupyter.widget-view+json": {
       "model_id": "1cb49f0e82b14d49b3b7b1c0e125622a",
       "version_major": 2,
       "version_minor": 0
      },
      "text/plain": [
       "sampling loop time step:   0%|          | 0/300 [00:00<?, ?it/s]"
      ]
     },
     "metadata": {},
     "output_type": "display_data"
    },
    {
     "name": "stdout",
     "output_type": "stream",
     "text": [
      "Loss: 0.020816795527935028\n",
      "Loss: 0.02474113367497921\n",
      "Loss: 0.021693086251616478\n",
      "Loss: 0.024559326469898224\n"
     ]
    },
    {
     "data": {
      "application/vnd.jupyter.widget-view+json": {
       "model_id": "b33fadd8a54b475a92aee5a7fdfda9ab",
       "version_major": 2,
       "version_minor": 0
      },
      "text/plain": [
       "sampling loop time step:   0%|          | 0/300 [00:00<?, ?it/s]"
      ]
     },
     "metadata": {},
     "output_type": "display_data"
    },
    {
     "name": "stdout",
     "output_type": "stream",
     "text": [
      "Loss: 0.020802360028028488\n",
      "Loss: 0.024728070944547653\n",
      "Loss: 0.021683409810066223\n",
      "Loss: 0.024551287293434143\n"
     ]
    },
    {
     "data": {
      "application/vnd.jupyter.widget-view+json": {
       "model_id": "2a255f9ac6d6463b99a440dfa01d428c",
       "version_major": 2,
       "version_minor": 0
      },
      "text/plain": [
       "sampling loop time step:   0%|          | 0/300 [00:00<?, ?it/s]"
      ]
     },
     "metadata": {},
     "output_type": "display_data"
    },
    {
     "name": "stdout",
     "output_type": "stream",
     "text": [
      "Loss: 0.02078893594443798\n",
      "Loss: 0.024715717881917953\n",
      "Loss: 0.021675661206245422\n",
      "Loss: 0.024544311687350273\n"
     ]
    },
    {
     "data": {
      "application/vnd.jupyter.widget-view+json": {
       "model_id": "437a157668d847b6a6b901eddea63755",
       "version_major": 2,
       "version_minor": 0
      },
      "text/plain": [
       "sampling loop time step:   0%|          | 0/300 [00:00<?, ?it/s]"
      ]
     },
     "metadata": {},
     "output_type": "display_data"
    },
    {
     "name": "stdout",
     "output_type": "stream",
     "text": [
      "Loss: 0.020777206867933273\n",
      "Loss: 0.024702858179807663\n",
      "Loss: 0.02166832983493805\n",
      "Loss: 0.024538110941648483\n"
     ]
    },
    {
     "data": {
      "application/vnd.jupyter.widget-view+json": {
       "model_id": "49ecbc52631e4a9985979505e032f99e",
       "version_major": 2,
       "version_minor": 0
      },
      "text/plain": [
       "sampling loop time step:   0%|          | 0/300 [00:00<?, ?it/s]"
      ]
     },
     "metadata": {},
     "output_type": "display_data"
    },
    {
     "name": "stdout",
     "output_type": "stream",
     "text": [
      "Loss: 0.02076786383986473\n",
      "Loss: 0.024689164012670517\n",
      "Loss: 0.021660275757312775\n",
      "Loss: 0.024532657116651535\n"
     ]
    },
    {
     "data": {
      "application/vnd.jupyter.widget-view+json": {
       "model_id": "2d3a29dfa79445419020bdaef044ec30",
       "version_major": 2,
       "version_minor": 0
      },
      "text/plain": [
       "sampling loop time step:   0%|          | 0/300 [00:00<?, ?it/s]"
      ]
     },
     "metadata": {},
     "output_type": "display_data"
    },
    {
     "name": "stdout",
     "output_type": "stream",
     "text": [
      "Loss: 0.020760994404554367\n",
      "Loss: 0.02467610314488411\n",
      "Loss: 0.021651385352015495\n",
      "Loss: 0.024527501314878464\n"
     ]
    },
    {
     "data": {
      "application/vnd.jupyter.widget-view+json": {
       "model_id": "0ac601607a9043b9939ba380925bcbb0",
       "version_major": 2,
       "version_minor": 0
      },
      "text/plain": [
       "sampling loop time step:   0%|          | 0/300 [00:00<?, ?it/s]"
      ]
     },
     "metadata": {},
     "output_type": "display_data"
    }
   ],
   "source": [
    "settings.results_folder = Path(\"./results-cifar/5-colored2bw-os-lora\")\n",
    "settings.results_folder.mkdir(exist_ok=True)\n",
    "\n",
    "optimizer = Adam(model.parameters(), lr=1e-3)\n",
    "train(model, optimizer, dataloader, sampler, settings, epochs=10)"
   ]
  },
  {
   "cell_type": "code",
   "execution_count": 11,
   "metadata": {},
   "outputs": [
    {
     "name": "stdout",
     "output_type": "stream",
     "text": [
      "gifski created /home/akkirr/annotated-diffusion/results-cifar/5-colored2bw-os-lora/sample.gif"
     ]
    }
   ],
   "source": [
    "folder = str(settings.results_folder)\n",
    "! /home/akkirr/.cargo/bin/gifski -o $folder/sample.gif -r 7 $folder/sample-*.png"
   ]
  },
  {
   "attachments": {},
   "cell_type": "markdown",
   "metadata": {},
   "source": [
    "### Open-source lora bw2colored"
   ]
  },
  {
   "cell_type": "code",
   "execution_count": 13,
   "metadata": {},
   "outputs": [],
   "source": [
    "settings.checkpoint = 'checkpoints/5-cifar-bw.pt'"
   ]
  },
  {
   "cell_type": "code",
   "execution_count": 14,
   "metadata": {},
   "outputs": [
    {
     "name": "stdout",
     "output_type": "stream",
     "text": [
      "trainable layers:            24\n",
      "frozen layers:              231\n",
      "total params:           2024059\n"
     ]
    }
   ],
   "source": [
    "set_all_seeds()\n",
    "model = Unet(\n",
    "    dim=settings.image_size,\n",
    "    channels=settings.channels,\n",
    "    dim_mults=(1, 2, 4,)\n",
    ")\n",
    "model.load_state_dict(torch.load(settings.checkpoint))\n",
    "\n",
    "model.requires_grad_(False)\n",
    "unet_lora_params, train_names = lora_diffusion.inject_trainable_lora_extended(\n",
    "    model,\n",
    "    target_replace_module=['LinearAttention'],\n",
    "    r=1,\n",
    ")\n",
    "model.to(settings.device)\n",
    "\n",
    "mylora.model_summary(model)"
   ]
  },
  {
   "cell_type": "code",
   "execution_count": 15,
   "metadata": {},
   "outputs": [],
   "source": [
    "# define function\n",
    "def transforms(examples):\n",
    "   examples[\"pixel_values\"] = [transform(image) for image in examples[\"img\"]]\n",
    "   del examples[\"img\"]\n",
    "\n",
    "   return examples\n",
    "\n",
    "transformed_dataset = dataset.with_transform(transforms).remove_columns(\"label\")\n",
    "\n",
    "# create dataloader\n",
    "dataloader = DataLoader(transformed_dataset[\"train\"], batch_size=settings.batch_size, shuffle=True)"
   ]
  },
  {
   "cell_type": "code",
   "execution_count": 16,
   "metadata": {},
   "outputs": [
    {
     "data": {
      "application/vnd.jupyter.widget-view+json": {
       "model_id": "457426c1b5ce424b9cdeb7a4f302a409",
       "version_major": 2,
       "version_minor": 0
      },
      "text/plain": [
       "sampling loop time step:   0%|          | 0/300 [00:00<?, ?it/s]"
      ]
     },
     "metadata": {},
     "output_type": "display_data"
    },
    {
     "name": "stdout",
     "output_type": "stream",
     "text": [
      "Loss: 0.05254998803138733\n",
      "Loss: 0.07035643607378006\n",
      "Loss: 0.06077330559492111\n",
      "Loss: 0.06180128455162048\n"
     ]
    },
    {
     "data": {
      "application/vnd.jupyter.widget-view+json": {
       "model_id": "f87bdf3ae0174fe4b4c03516c2c892d9",
       "version_major": 2,
       "version_minor": 0
      },
      "text/plain": [
       "sampling loop time step:   0%|          | 0/300 [00:00<?, ?it/s]"
      ]
     },
     "metadata": {},
     "output_type": "display_data"
    },
    {
     "name": "stdout",
     "output_type": "stream",
     "text": [
      "Loss: 0.04559360072016716\n",
      "Loss: 0.06622746586799622\n",
      "Loss: 0.05924654006958008\n",
      "Loss: 0.060522809624671936\n"
     ]
    },
    {
     "data": {
      "application/vnd.jupyter.widget-view+json": {
       "model_id": "531b22826e534b0e9020a2b4b89ba1e3",
       "version_major": 2,
       "version_minor": 0
      },
      "text/plain": [
       "sampling loop time step:   0%|          | 0/300 [00:00<?, ?it/s]"
      ]
     },
     "metadata": {},
     "output_type": "display_data"
    },
    {
     "name": "stdout",
     "output_type": "stream",
     "text": [
      "Loss: 0.04515715688467026\n",
      "Loss: 0.06404444575309753\n",
      "Loss: 0.05824681743979454\n",
      "Loss: 0.05751175805926323\n"
     ]
    },
    {
     "data": {
      "application/vnd.jupyter.widget-view+json": {
       "model_id": "07085d5269b24ed786d67a85f35c82b7",
       "version_major": 2,
       "version_minor": 0
      },
      "text/plain": [
       "sampling loop time step:   0%|          | 0/300 [00:00<?, ?it/s]"
      ]
     },
     "metadata": {},
     "output_type": "display_data"
    },
    {
     "name": "stdout",
     "output_type": "stream",
     "text": [
      "Loss: 0.04380150884389877\n",
      "Loss: 0.06191066652536392\n",
      "Loss: 0.05649096891283989\n",
      "Loss: 0.056486230343580246\n"
     ]
    },
    {
     "data": {
      "application/vnd.jupyter.widget-view+json": {
       "model_id": "72d52672e1554deeabc6b1dec2783d18",
       "version_major": 2,
       "version_minor": 0
      },
      "text/plain": [
       "sampling loop time step:   0%|          | 0/300 [00:00<?, ?it/s]"
      ]
     },
     "metadata": {},
     "output_type": "display_data"
    },
    {
     "name": "stdout",
     "output_type": "stream",
     "text": [
      "Loss: 0.04224162921309471\n",
      "Loss: 0.061619531363248825\n",
      "Loss: 0.05541720241308212\n",
      "Loss: 0.05552754923701286\n"
     ]
    },
    {
     "data": {
      "application/vnd.jupyter.widget-view+json": {
       "model_id": "d67727e57ebd4111ac131f9f90bc78a1",
       "version_major": 2,
       "version_minor": 0
      },
      "text/plain": [
       "sampling loop time step:   0%|          | 0/300 [00:00<?, ?it/s]"
      ]
     },
     "metadata": {},
     "output_type": "display_data"
    },
    {
     "name": "stdout",
     "output_type": "stream",
     "text": [
      "Loss: 0.042103759944438934\n",
      "Loss: 0.060648731887340546\n",
      "Loss: 0.05456799268722534\n",
      "Loss: 0.05487517639994621\n"
     ]
    },
    {
     "data": {
      "application/vnd.jupyter.widget-view+json": {
       "model_id": "760f6c717677493d86453caf5e156ff1",
       "version_major": 2,
       "version_minor": 0
      },
      "text/plain": [
       "sampling loop time step:   0%|          | 0/300 [00:00<?, ?it/s]"
      ]
     },
     "metadata": {},
     "output_type": "display_data"
    },
    {
     "name": "stdout",
     "output_type": "stream",
     "text": [
      "Loss: 0.041910506784915924\n",
      "Loss: 0.05988053232431412\n",
      "Loss: 0.05392260104417801\n",
      "Loss: 0.05455612763762474\n"
     ]
    },
    {
     "data": {
      "application/vnd.jupyter.widget-view+json": {
       "model_id": "03d666b3e4674f68a31dca609083944a",
       "version_major": 2,
       "version_minor": 0
      },
      "text/plain": [
       "sampling loop time step:   0%|          | 0/300 [00:00<?, ?it/s]"
      ]
     },
     "metadata": {},
     "output_type": "display_data"
    },
    {
     "name": "stdout",
     "output_type": "stream",
     "text": [
      "Loss: 0.04188649356365204\n",
      "Loss: 0.05927160382270813\n",
      "Loss: 0.053231414407491684\n",
      "Loss: 0.05386975407600403\n"
     ]
    },
    {
     "data": {
      "application/vnd.jupyter.widget-view+json": {
       "model_id": "fcabe157afcb4b0391105966100f3ee2",
       "version_major": 2,
       "version_minor": 0
      },
      "text/plain": [
       "sampling loop time step:   0%|          | 0/300 [00:00<?, ?it/s]"
      ]
     },
     "metadata": {},
     "output_type": "display_data"
    },
    {
     "name": "stdout",
     "output_type": "stream",
     "text": [
      "Loss: 0.04172809422016144\n",
      "Loss: 0.058676764369010925\n",
      "Loss: 0.05286147817969322\n",
      "Loss: 0.053213782608509064\n"
     ]
    },
    {
     "data": {
      "application/vnd.jupyter.widget-view+json": {
       "model_id": "aca0ed02ba384965809b87df3cfc35a3",
       "version_major": 2,
       "version_minor": 0
      },
      "text/plain": [
       "sampling loop time step:   0%|          | 0/300 [00:00<?, ?it/s]"
      ]
     },
     "metadata": {},
     "output_type": "display_data"
    },
    {
     "name": "stdout",
     "output_type": "stream",
     "text": [
      "Loss: 0.041416339576244354\n",
      "Loss: 0.05828488618135452\n",
      "Loss: 0.05257154628634453\n",
      "Loss: 0.05259702727198601\n"
     ]
    },
    {
     "data": {
      "application/vnd.jupyter.widget-view+json": {
       "model_id": "7ca30b8ae6d14f1dad879a93564005d1",
       "version_major": 2,
       "version_minor": 0
      },
      "text/plain": [
       "sampling loop time step:   0%|          | 0/300 [00:00<?, ?it/s]"
      ]
     },
     "metadata": {},
     "output_type": "display_data"
    }
   ],
   "source": [
    "set_all_seeds()\n",
    "settings.results_folder = Path(\"./results-cifar/6-bw2colored-os-lora\")\n",
    "settings.results_folder.mkdir(exist_ok=True)\n",
    "\n",
    "optimizer = Adam(model.parameters(), lr=1e-3)\n",
    "train(model, optimizer, dataloader, sampler, settings, epochs=10)"
   ]
  },
  {
   "cell_type": "code",
   "execution_count": 17,
   "metadata": {},
   "outputs": [
    {
     "name": "stdout",
     "output_type": "stream",
     "text": [
      "gifski created /home/akkirr/annotated-diffusion/results-cifar/6-bw2colored-os-lora/sample.gif"
     ]
    }
   ],
   "source": [
    "folder = str(settings.results_folder)\n",
    "! /home/akkirr/.cargo/bin/gifski -o $folder/sample.gif -r 7 $folder/sample-*.png"
   ]
  }
 ],
 "metadata": {
  "kernelspec": {
   "display_name": "base",
   "language": "python",
   "name": "python3"
  },
  "language_info": {
   "codemirror_mode": {
    "name": "ipython",
    "version": 3
   },
   "file_extension": ".py",
   "mimetype": "text/x-python",
   "name": "python",
   "nbconvert_exporter": "python",
   "pygments_lexer": "ipython3",
   "version": "3.10.10"
  },
  "orig_nbformat": 4
 },
 "nbformat": 4,
 "nbformat_minor": 2
}
