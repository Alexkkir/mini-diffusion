{
 "cells": [
  {
   "cell_type": "code",
   "execution_count": 1,
   "metadata": {},
   "outputs": [
    {
     "name": "stdout",
     "output_type": "stream",
     "text": [
      "/home/akkirr/annotated-diffusion\n"
     ]
    }
   ],
   "source": [
    "%load_ext autoreload\n",
    "%autoreload 2\n",
    "%cd .."
   ]
  },
  {
   "cell_type": "code",
   "execution_count": 2,
   "metadata": {},
   "outputs": [],
   "source": [
    "%matplotlib inline\n",
    "import matplotlib.pyplot as plt\n",
    "from tqdm.auto import tqdm\n",
    "from pathlib import Path\n",
    "\n",
    "import torch\n",
    "from torch import nan_to_num\n",
    "from torchvision import transforms as T\n",
    "from torch.utils.data import DataLoader\n",
    "\n",
    "import numpy as np\n",
    "from PIL import Image\n",
    "import requests\n",
    "\n",
    "from datasets import load_dataset\n",
    "from torchvision.utils import save_image\n",
    "from torch.optim import Adam\n",
    "\n",
    "from copy import deepcopy"
   ]
  },
  {
   "cell_type": "code",
   "execution_count": 3,
   "metadata": {},
   "outputs": [],
   "source": [
    "from mylib import *\n",
    "import mylora"
   ]
  },
  {
   "cell_type": "code",
   "execution_count": 4,
   "metadata": {},
   "outputs": [],
   "source": [
    "sampler = Sampler(linear_beta_schedule, 300)"
   ]
  },
  {
   "cell_type": "code",
   "execution_count": 5,
   "metadata": {},
   "outputs": [
    {
     "data": {
      "text/plain": [
       "{\n",
       "    \"results_folder\": \"PosixPath('4-results-lora-exps-2')\",\n",
       "    \"image_size\": 28,\n",
       "    \"channels\": 1,\n",
       "    \"batch_size\": 128,\n",
       "    \"device\": \"cuda\",\n",
       "    \"checkpoint\": \"checkpoints/2-trained-on-1:last.pt\"\n",
       "}"
      ]
     },
     "execution_count": 5,
     "metadata": {},
     "output_type": "execute_result"
    }
   ],
   "source": [
    "settings = Settings(\n",
    "    results_folder = Path(\"./4-results-lora-exps-2\"),\n",
    "    image_size = 28,\n",
    "    channels = 1,\n",
    "    batch_size = 128,\n",
    "    device = \"cuda\" if torch.cuda.is_available() else \"cpu\",\n",
    "    checkpoint = 'checkpoints/2-trained-on-1:last.pt'\n",
    ")\n",
    "settings"
   ]
  },
  {
   "cell_type": "code",
   "execution_count": 42,
   "metadata": {},
   "outputs": [],
   "source": [
    "settings.results_folder.mkdir(exist_ok = True)"
   ]
  },
  {
   "cell_type": "code",
   "execution_count": 6,
   "metadata": {},
   "outputs": [
    {
     "name": "stderr",
     "output_type": "stream",
     "text": [
      "Found cached dataset fashion_mnist (/home/akkirr/.cache/huggingface/datasets/fashion_mnist/fashion_mnist/1.0.0/0a671f063342996f19779d38c0ab4abef9c64f757b35af8134b331c294d7ba48)\n"
     ]
    },
    {
     "data": {
      "application/vnd.jupyter.widget-view+json": {
       "model_id": "8654be48cebc479282e10f82fb608503",
       "version_major": 2,
       "version_minor": 0
      },
      "text/plain": [
       "  0%|          | 0/2 [00:00<?, ?it/s]"
      ]
     },
     "metadata": {},
     "output_type": "display_data"
    },
    {
     "name": "stderr",
     "output_type": "stream",
     "text": [
      "Loading cached processed dataset at /home/akkirr/.cache/huggingface/datasets/fashion_mnist/fashion_mnist/1.0.0/0a671f063342996f19779d38c0ab4abef9c64f757b35af8134b331c294d7ba48/cache-e1de293369d54b3d.arrow\n",
      "Loading cached processed dataset at /home/akkirr/.cache/huggingface/datasets/fashion_mnist/fashion_mnist/1.0.0/0a671f063342996f19779d38c0ab4abef9c64f757b35af8134b331c294d7ba48/cache-99238c540bf086fb.arrow\n"
     ]
    }
   ],
   "source": [
    "dataset = load_dataset(\"fashion_mnist\")\n",
    "# define image transformations (e.g. using torchvision)\n",
    "transform = Compose([\n",
    "            T.RandomHorizontalFlip(),\n",
    "            T.ToTensor(),\n",
    "            T.Lambda(lambda t: (t * 2) - 1)\n",
    "])\n",
    "\n",
    "# define function\n",
    "def transforms(examples):\n",
    "   examples[\"pixel_values\"] = [transform(image.convert(\"L\")) for image in examples[\"image\"]]\n",
    "   del examples[\"image\"]\n",
    "\n",
    "   return examples\n",
    "\n",
    "transformed_dataset = dataset.with_transform(transforms).filter(lambda x: x['label'] == 0).remove_columns(\"label\")\n",
    "\n",
    "# create dataloader\n",
    "dataloader = DataLoader(transformed_dataset[\"train\"], batch_size=settings.batch_size, shuffle=True)"
   ]
  },
  {
   "attachments": {},
   "cell_type": "markdown",
   "metadata": {},
   "source": [
    "# Train Lora"
   ]
  },
  {
   "cell_type": "markdown",
   "metadata": {},
   "source": [
    "### Mylora 1"
   ]
  },
  {
   "cell_type": "code",
   "execution_count": 15,
   "metadata": {},
   "outputs": [
    {
     "name": "stdout",
     "output_type": "stream",
     "text": [
      "Injected lora    28 x 1 x 384   in downs.0.2.fn.fn.to_qkv\n",
      "Injected lora   128 x 1 x 28    in downs.0.2.fn.fn.0\n",
      "Injected lora    28 x 1 x 384   in downs.1.2.fn.fn.to_qkv\n",
      "Injected lora   128 x 1 x 28    in downs.1.2.fn.fn.0\n",
      "Injected lora    56 x 1 x 384   in downs.2.2.fn.fn.to_qkv\n",
      "Injected lora   128 x 1 x 56    in downs.2.2.fn.fn.0\n",
      "Injected lora   112 x 1 x 384   in ups.0.2.fn.fn.to_qkv\n",
      "Injected lora   128 x 1 x 112   in ups.0.2.fn.fn.0\n",
      "Injected lora    56 x 1 x 384   in ups.1.2.fn.fn.to_qkv\n",
      "Injected lora   128 x 1 x 56    in ups.1.2.fn.fn.0\n",
      "Injected lora    28 x 1 x 384   in ups.2.2.fn.fn.to_qkv\n",
      "Injected lora   128 x 1 x 28    in ups.2.2.fn.fn.0\n",
      "\n",
      "trainable layers:            24\n",
      "frozen layers:              231\n",
      "total params:           2023945\n"
     ]
    }
   ],
   "source": [
    "set_all_seeds()\n",
    "model = Unet(\n",
    "    dim=settings.image_size,\n",
    "    channels=settings.channels,\n",
    "    dim_mults=(1, 2, 4,)\n",
    ")\n",
    "model.load_state_dict(torch.load(settings.checkpoint))\n",
    "\n",
    "mylora.inject_lora(\n",
    "    model, 1, 0.1,\n",
    "    ['LinearAttention'],\n",
    "    [nn.Conv2d]\n",
    ")\n",
    "model.to(settings.device)\n",
    "\n",
    "mylora.freeze_lora(model)\n",
    "print()\n",
    "mylora.model_summary(model)"
   ]
  },
  {
   "cell_type": "code",
   "execution_count": 16,
   "metadata": {},
   "outputs": [
    {
     "data": {
      "application/vnd.jupyter.widget-view+json": {
       "model_id": "17609a354d714e69bad92041f3ee489d",
       "version_major": 2,
       "version_minor": 0
      },
      "text/plain": [
       "sampling loop time step:   0%|          | 0/300 [00:00<?, ?it/s]"
      ]
     },
     "metadata": {},
     "output_type": "display_data"
    },
    {
     "name": "stdout",
     "output_type": "stream",
     "text": [
      "Loss: 0.03347987309098244\n"
     ]
    },
    {
     "data": {
      "application/vnd.jupyter.widget-view+json": {
       "model_id": "355722b9225341d4a011cb40b874403c",
       "version_major": 2,
       "version_minor": 0
      },
      "text/plain": [
       "sampling loop time step:   0%|          | 0/300 [00:00<?, ?it/s]"
      ]
     },
     "metadata": {},
     "output_type": "display_data"
    },
    {
     "name": "stdout",
     "output_type": "stream",
     "text": [
      "Loss: 0.032416168600320816\n"
     ]
    },
    {
     "data": {
      "application/vnd.jupyter.widget-view+json": {
       "model_id": "37a6be07598f47bc8f9043c6a6561aee",
       "version_major": 2,
       "version_minor": 0
      },
      "text/plain": [
       "sampling loop time step:   0%|          | 0/300 [00:00<?, ?it/s]"
      ]
     },
     "metadata": {},
     "output_type": "display_data"
    },
    {
     "name": "stdout",
     "output_type": "stream",
     "text": [
      "Loss: 0.03221919387578964\n"
     ]
    },
    {
     "data": {
      "application/vnd.jupyter.widget-view+json": {
       "model_id": "930ed2e9ac7a467487db93031e821018",
       "version_major": 2,
       "version_minor": 0
      },
      "text/plain": [
       "sampling loop time step:   0%|          | 0/300 [00:00<?, ?it/s]"
      ]
     },
     "metadata": {},
     "output_type": "display_data"
    },
    {
     "name": "stdout",
     "output_type": "stream",
     "text": [
      "Loss: 0.03209693729877472\n"
     ]
    },
    {
     "data": {
      "application/vnd.jupyter.widget-view+json": {
       "model_id": "c7e3a53e1758462c9aef2b201abf6990",
       "version_major": 2,
       "version_minor": 0
      },
      "text/plain": [
       "sampling loop time step:   0%|          | 0/300 [00:00<?, ?it/s]"
      ]
     },
     "metadata": {},
     "output_type": "display_data"
    },
    {
     "name": "stdout",
     "output_type": "stream",
     "text": [
      "Loss: 0.032007846981287\n"
     ]
    },
    {
     "data": {
      "application/vnd.jupyter.widget-view+json": {
       "model_id": "0fac071b5d9a44f7b89da8ebdd73f368",
       "version_major": 2,
       "version_minor": 0
      },
      "text/plain": [
       "sampling loop time step:   0%|          | 0/300 [00:00<?, ?it/s]"
      ]
     },
     "metadata": {},
     "output_type": "display_data"
    },
    {
     "name": "stdout",
     "output_type": "stream",
     "text": [
      "Loss: 0.03193720802664757\n"
     ]
    },
    {
     "data": {
      "application/vnd.jupyter.widget-view+json": {
       "model_id": "28278a591a4e4804931890a4e516b7c2",
       "version_major": 2,
       "version_minor": 0
      },
      "text/plain": [
       "sampling loop time step:   0%|          | 0/300 [00:00<?, ?it/s]"
      ]
     },
     "metadata": {},
     "output_type": "display_data"
    },
    {
     "name": "stdout",
     "output_type": "stream",
     "text": [
      "Loss: 0.03187677264213562\n"
     ]
    },
    {
     "data": {
      "application/vnd.jupyter.widget-view+json": {
       "model_id": "865171890a4849139bb7cd49a8f618bd",
       "version_major": 2,
       "version_minor": 0
      },
      "text/plain": [
       "sampling loop time step:   0%|          | 0/300 [00:00<?, ?it/s]"
      ]
     },
     "metadata": {},
     "output_type": "display_data"
    },
    {
     "name": "stdout",
     "output_type": "stream",
     "text": [
      "Loss: 0.031828027218580246\n"
     ]
    },
    {
     "data": {
      "application/vnd.jupyter.widget-view+json": {
       "model_id": "012df04e60b2440dbd85131b62a64140",
       "version_major": 2,
       "version_minor": 0
      },
      "text/plain": [
       "sampling loop time step:   0%|          | 0/300 [00:00<?, ?it/s]"
      ]
     },
     "metadata": {},
     "output_type": "display_data"
    },
    {
     "name": "stdout",
     "output_type": "stream",
     "text": [
      "Loss: 0.03178706765174866\n"
     ]
    },
    {
     "data": {
      "application/vnd.jupyter.widget-view+json": {
       "model_id": "8fb6e26b889947c9b418c82c96574a73",
       "version_major": 2,
       "version_minor": 0
      },
      "text/plain": [
       "sampling loop time step:   0%|          | 0/300 [00:00<?, ?it/s]"
      ]
     },
     "metadata": {},
     "output_type": "display_data"
    },
    {
     "name": "stdout",
     "output_type": "stream",
     "text": [
      "Loss: 0.03175035119056702\n"
     ]
    },
    {
     "data": {
      "application/vnd.jupyter.widget-view+json": {
       "model_id": "cbc3708f4e0b46b1ab956ad1748d469d",
       "version_major": 2,
       "version_minor": 0
      },
      "text/plain": [
       "sampling loop time step:   0%|          | 0/300 [00:00<?, ?it/s]"
      ]
     },
     "metadata": {},
     "output_type": "display_data"
    }
   ],
   "source": [
    "optimizer = Adam(model.parameters(), lr=1e-3)\n",
    "train(model, optimizer, dataloader, sampler, settings, epochs=10)"
   ]
  },
  {
   "cell_type": "code",
   "execution_count": 20,
   "metadata": {},
   "outputs": [
    {
     "name": "stderr",
     "output_type": "stream",
     "text": [
      "ffmpeg version 4.3 Copyright (c) 2000-2020 the FFmpeg developers\n",
      "  built with gcc 7.3.0 (crosstool-NG 1.23.0.449-a04d0)\n",
      "  configuration: --prefix=/opt/conda/conda-bld/ffmpeg_1597178665428/_h_env_placehold_placehold_placehold_placehold_placehold_placehold_placehold_placehold_placehold_placehold_placehold_placehold_placehold_placehold_placehold_placehold_placehold_placehold_placehold_placehold_placeh --cc=/opt/conda/conda-bld/ffmpeg_1597178665428/_build_env/bin/x86_64-conda_cos6-linux-gnu-cc --disable-doc --disable-openssl --enable-avresample --enable-gnutls --enable-hardcoded-tables --enable-libfreetype --enable-libopenh264 --enable-pic --enable-pthreads --enable-shared --disable-static --enable-version3 --enable-zlib --enable-libmp3lame\n",
      "  libavutil      56. 51.100 / 56. 51.100\n",
      "  libavcodec     58. 91.100 / 58. 91.100\n",
      "  libavformat    58. 45.100 / 58. 45.100\n",
      "  libavdevice    58. 10.100 / 58. 10.100\n",
      "  libavfilter     7. 85.100 /  7. 85.100\n",
      "  libavresample   4.  0.  0 /  4.  0.  0\n",
      "  libswscale      5.  7.100 /  5.  7.100\n",
      "  libswresample   3.  7.100 /  3.  7.100\n",
      "Input #0, image2, from '4-results-lora-exps-2/sample-%d.png':\n",
      "  Duration: 00:00:01.57, start: 0.000000, bitrate: N/A\n",
      "    Stream #0:0: Video: png, rgb24(pc), 242x242, 7 fps, 7 tbr, 7 tbn, 7 tbc\n",
      "Stream mapping:\n",
      "  Stream #0:0 -> #0:0 (png (native) -> gif (native))\n",
      "Press [q] to stop, [?] for help\n",
      "Output #0, gif, to '4-results-lora-exps-2/sample.gif':\n",
      "  Metadata:\n",
      "    encoder         : Lavf58.45.100\n",
      "    Stream #0:0: Video: gif, bgr8, 242x242, q=2-31, 200 kb/s, 7 fps, 100 tbn, 7 tbc\n",
      "    Metadata:\n",
      "      encoder         : Lavc58.91.100 gif\n",
      "frame=   11 fps=0.0 q=-0.0 Lsize=     156kB time=00:00:01.44 bitrate= 888.7kbits/s speed=29.4x    \n",
      "video:156kB audio:0kB subtitle:0kB other streams:0kB global headers:0kB muxing overhead: 0.012504%\n"
     ]
    }
   ],
   "source": [
    "%%bash\n",
    "DIR=4-results-lora-exps-2\n",
    "ffmpeg -f image2 -framerate 7 -i $DIR/sample-%d.png -loop -0 $DIR/sample.gif"
   ]
  },
  {
   "cell_type": "markdown",
   "metadata": {},
   "source": [
    "### Official lora"
   ]
  },
  {
   "cell_type": "code",
   "execution_count": 47,
   "metadata": {},
   "outputs": [
    {
     "name": "stdout",
     "output_type": "stream",
     "text": [
      "\n",
      "trainable layers:            24\n",
      "frozen layers:              231\n",
      "total params:           2023945\n"
     ]
    }
   ],
   "source": [
    "import lora_diffusion\n",
    "\n",
    "set_all_seeds()\n",
    "model = Unet(\n",
    "    dim=settings.image_size,\n",
    "    channels=settings.channels,\n",
    "    dim_mults=(1, 2, 4,)\n",
    ")\n",
    "model.load_state_dict(torch.load(settings.checkpoint))\n",
    "\n",
    "model.requires_grad_(False)\n",
    "unet_lora_params, train_names = lora_diffusion.inject_trainable_lora_extended(\n",
    "    model,\n",
    "    target_replace_module=['LinearAttention'],\n",
    "    r=1,\n",
    ")\n",
    "model.to(settings.device)\n",
    "\n",
    "print()\n",
    "mylora.model_summary(model)"
   ]
  },
  {
   "cell_type": "code",
   "execution_count": 50,
   "metadata": {},
   "outputs": [
    {
     "data": {
      "text/plain": [
       "{\n",
       "    \"results_folder\": \"PosixPath('5-results-lora-official')\",\n",
       "    \"image_size\": 28,\n",
       "    \"channels\": 1,\n",
       "    \"batch_size\": 128,\n",
       "    \"device\": \"cuda\",\n",
       "    \"checkpoint\": \"checkpoints/2-trained-on-1:last.pt\"\n",
       "}"
      ]
     },
     "execution_count": 50,
     "metadata": {},
     "output_type": "execute_result"
    }
   ],
   "source": [
    "settings.results_folder = Path(\"./5-results-lora-official\")\n",
    "settings.results_folder.mkdir(exist_ok=True)\n",
    "settings"
   ]
  },
  {
   "cell_type": "code",
   "execution_count": 51,
   "metadata": {},
   "outputs": [
    {
     "data": {
      "application/vnd.jupyter.widget-view+json": {
       "model_id": "3a7dd6a0db1f4140a0d3450c8dd41616",
       "version_major": 2,
       "version_minor": 0
      },
      "text/plain": [
       "sampling loop time step:   0%|          | 0/300 [00:00<?, ?it/s]"
      ]
     },
     "metadata": {},
     "output_type": "display_data"
    },
    {
     "name": "stdout",
     "output_type": "stream",
     "text": [
      "Loss: 0.03206548094749451\n"
     ]
    },
    {
     "data": {
      "application/vnd.jupyter.widget-view+json": {
       "model_id": "9432dff9ae1047d09e0f16a3474c7d51",
       "version_major": 2,
       "version_minor": 0
      },
      "text/plain": [
       "sampling loop time step:   0%|          | 0/300 [00:00<?, ?it/s]"
      ]
     },
     "metadata": {},
     "output_type": "display_data"
    },
    {
     "name": "stdout",
     "output_type": "stream",
     "text": [
      "Loss: 0.03116554580628872\n"
     ]
    },
    {
     "data": {
      "application/vnd.jupyter.widget-view+json": {
       "model_id": "63c184a1575f49c282e7c2eb5a3230bb",
       "version_major": 2,
       "version_minor": 0
      },
      "text/plain": [
       "sampling loop time step:   0%|          | 0/300 [00:00<?, ?it/s]"
      ]
     },
     "metadata": {},
     "output_type": "display_data"
    },
    {
     "name": "stdout",
     "output_type": "stream",
     "text": [
      "Loss: 0.031047526746988297\n"
     ]
    },
    {
     "data": {
      "application/vnd.jupyter.widget-view+json": {
       "model_id": "c591dec39b1f4b36b3c465e1c55b6d15",
       "version_major": 2,
       "version_minor": 0
      },
      "text/plain": [
       "sampling loop time step:   0%|          | 0/300 [00:00<?, ?it/s]"
      ]
     },
     "metadata": {},
     "output_type": "display_data"
    },
    {
     "name": "stdout",
     "output_type": "stream",
     "text": [
      "Loss: 0.030967460945248604\n"
     ]
    },
    {
     "data": {
      "application/vnd.jupyter.widget-view+json": {
       "model_id": "9f75332c938b48eeb45bd4e8582d545a",
       "version_major": 2,
       "version_minor": 0
      },
      "text/plain": [
       "sampling loop time step:   0%|          | 0/300 [00:00<?, ?it/s]"
      ]
     },
     "metadata": {},
     "output_type": "display_data"
    },
    {
     "name": "stdout",
     "output_type": "stream",
     "text": [
      "Loss: 0.03090790845453739\n"
     ]
    },
    {
     "data": {
      "application/vnd.jupyter.widget-view+json": {
       "model_id": "30531032ee694863b3ebdab1027253f3",
       "version_major": 2,
       "version_minor": 0
      },
      "text/plain": [
       "sampling loop time step:   0%|          | 0/300 [00:00<?, ?it/s]"
      ]
     },
     "metadata": {},
     "output_type": "display_data"
    },
    {
     "name": "stdout",
     "output_type": "stream",
     "text": [
      "Loss: 0.03086230717599392\n"
     ]
    },
    {
     "data": {
      "application/vnd.jupyter.widget-view+json": {
       "model_id": "0101db9ea8824c7c8abc4852a9b24eae",
       "version_major": 2,
       "version_minor": 0
      },
      "text/plain": [
       "sampling loop time step:   0%|          | 0/300 [00:00<?, ?it/s]"
      ]
     },
     "metadata": {},
     "output_type": "display_data"
    },
    {
     "name": "stdout",
     "output_type": "stream",
     "text": [
      "Loss: 0.030824465677142143\n"
     ]
    },
    {
     "data": {
      "application/vnd.jupyter.widget-view+json": {
       "model_id": "1d06cf60a8de468e9a0156f2be706dcc",
       "version_major": 2,
       "version_minor": 0
      },
      "text/plain": [
       "sampling loop time step:   0%|          | 0/300 [00:00<?, ?it/s]"
      ]
     },
     "metadata": {},
     "output_type": "display_data"
    },
    {
     "name": "stdout",
     "output_type": "stream",
     "text": [
      "Loss: 0.0307917483150959\n"
     ]
    },
    {
     "data": {
      "application/vnd.jupyter.widget-view+json": {
       "model_id": "2621a8ab994242f094425c862ef3b928",
       "version_major": 2,
       "version_minor": 0
      },
      "text/plain": [
       "sampling loop time step:   0%|          | 0/300 [00:00<?, ?it/s]"
      ]
     },
     "metadata": {},
     "output_type": "display_data"
    },
    {
     "name": "stdout",
     "output_type": "stream",
     "text": [
      "Loss: 0.030763352289795876\n"
     ]
    },
    {
     "data": {
      "application/vnd.jupyter.widget-view+json": {
       "model_id": "043097de6be242f3a649902f756f59a6",
       "version_major": 2,
       "version_minor": 0
      },
      "text/plain": [
       "sampling loop time step:   0%|          | 0/300 [00:00<?, ?it/s]"
      ]
     },
     "metadata": {},
     "output_type": "display_data"
    },
    {
     "name": "stdout",
     "output_type": "stream",
     "text": [
      "Loss: 0.03073890693485737\n"
     ]
    },
    {
     "data": {
      "application/vnd.jupyter.widget-view+json": {
       "model_id": "0190c37fc8224e098f1921f8614160fa",
       "version_major": 2,
       "version_minor": 0
      },
      "text/plain": [
       "sampling loop time step:   0%|          | 0/300 [00:00<?, ?it/s]"
      ]
     },
     "metadata": {},
     "output_type": "display_data"
    }
   ],
   "source": [
    "optimizer = Adam(model.parameters(), lr=1e-3)\n",
    "train(model, optimizer, dataloader, sampler, settings, epochs=10)"
   ]
  },
  {
   "cell_type": "code",
   "execution_count": 52,
   "metadata": {},
   "outputs": [
    {
     "name": "stderr",
     "output_type": "stream",
     "text": [
      "ffmpeg version 4.3 Copyright (c) 2000-2020 the FFmpeg developers\n",
      "  built with gcc 7.3.0 (crosstool-NG 1.23.0.449-a04d0)\n",
      "  configuration: --prefix=/opt/conda/conda-bld/ffmpeg_1597178665428/_h_env_placehold_placehold_placehold_placehold_placehold_placehold_placehold_placehold_placehold_placehold_placehold_placehold_placehold_placehold_placehold_placehold_placehold_placehold_placehold_placehold_placeh --cc=/opt/conda/conda-bld/ffmpeg_1597178665428/_build_env/bin/x86_64-conda_cos6-linux-gnu-cc --disable-doc --disable-openssl --enable-avresample --enable-gnutls --enable-hardcoded-tables --enable-libfreetype --enable-libopenh264 --enable-pic --enable-pthreads --enable-shared --disable-static --enable-version3 --enable-zlib --enable-libmp3lame\n",
      "  libavutil      56. 51.100 / 56. 51.100\n",
      "  libavcodec     58. 91.100 / 58. 91.100\n",
      "  libavformat    58. 45.100 / 58. 45.100\n",
      "  libavdevice    58. 10.100 / 58. 10.100\n",
      "  libavfilter     7. 85.100 /  7. 85.100\n",
      "  libavresample   4.  0.  0 /  4.  0.  0\n",
      "  libswscale      5.  7.100 /  5.  7.100\n",
      "  libswresample   3.  7.100 /  3.  7.100\n",
      "Input #0, image2, from '5-results-lora-official/sample-%d.png':\n",
      "  Duration: 00:00:01.57, start: 0.000000, bitrate: N/A\n",
      "    Stream #0:0: Video: png, rgb24(pc), 242x242, 7 fps, 7 tbr, 7 tbn, 7 tbc\n",
      "Stream mapping:\n",
      "  Stream #0:0 -> #0:0 (png (native) -> gif (native))\n",
      "Press [q] to stop, [?] for help\n",
      "Output #0, gif, to '5-results-lora-official/sample.gif':\n",
      "  Metadata:\n",
      "    encoder         : Lavf58.45.100\n",
      "    Stream #0:0: Video: gif, bgr8, 242x242, q=2-31, 200 kb/s, 7 fps, 100 tbn, 7 tbc\n",
      "    Metadata:\n",
      "      encoder         : Lavc58.91.100 gif\n",
      "frame=   11 fps=0.0 q=-0.0 Lsize=     158kB time=00:00:01.44 bitrate= 898.2kbits/s speed=30.8x    \n",
      "video:158kB audio:0kB subtitle:0kB other streams:0kB global headers:0kB muxing overhead: 0.012372%\n"
     ]
    }
   ],
   "source": [
    "%%bash\n",
    "DIR=5-results-lora-official\n",
    "ffmpeg -f image2 -framerate 7 -i $DIR/sample-%d.png -loop -0 $DIR/sample.gif"
   ]
  },
  {
   "attachments": {},
   "cell_type": "markdown",
   "metadata": {},
   "source": [
    "### Dropout instead Dropout2d"
   ]
  },
  {
   "cell_type": "code",
   "execution_count": 53,
   "metadata": {},
   "outputs": [
    {
     "name": "stdout",
     "output_type": "stream",
     "text": [
      "Injected lora    28 x 1 x 384   in downs.0.2.fn.fn.to_qkv\n",
      "Injected lora   128 x 1 x 28    in downs.0.2.fn.fn.0\n",
      "Injected lora    28 x 1 x 384   in downs.1.2.fn.fn.to_qkv\n",
      "Injected lora   128 x 1 x 28    in downs.1.2.fn.fn.0\n",
      "Injected lora    56 x 1 x 384   in downs.2.2.fn.fn.to_qkv\n",
      "Injected lora   128 x 1 x 56    in downs.2.2.fn.fn.0\n",
      "Injected lora   112 x 1 x 384   in ups.0.2.fn.fn.to_qkv\n",
      "Injected lora   128 x 1 x 112   in ups.0.2.fn.fn.0\n",
      "Injected lora    56 x 1 x 384   in ups.1.2.fn.fn.to_qkv\n",
      "Injected lora   128 x 1 x 56    in ups.1.2.fn.fn.0\n",
      "Injected lora    28 x 1 x 384   in ups.2.2.fn.fn.to_qkv\n",
      "Injected lora   128 x 1 x 28    in ups.2.2.fn.fn.0\n",
      "\n",
      "trainable layers:            24\n",
      "frozen layers:              231\n",
      "total params:           2023945\n"
     ]
    }
   ],
   "source": [
    "set_all_seeds()\n",
    "model = Unet(\n",
    "    dim=settings.image_size,\n",
    "    channels=settings.channels,\n",
    "    dim_mults=(1, 2, 4,)\n",
    ")\n",
    "model.load_state_dict(torch.load(settings.checkpoint))\n",
    "\n",
    "mylora.inject_lora(\n",
    "    model, 1, 0.1,\n",
    "    ['LinearAttention'],\n",
    "    [nn.Conv2d]\n",
    ")\n",
    "model.to(settings.device)\n",
    "\n",
    "mylora.freeze_lora(model)\n",
    "print()\n",
    "mylora.model_summary(model)"
   ]
  },
  {
   "cell_type": "code",
   "execution_count": 55,
   "metadata": {},
   "outputs": [
    {
     "data": {
      "text/plain": [
       "{\n",
       "    \"results_folder\": \"PosixPath('6-results-lora-dropout0d')\",\n",
       "    \"image_size\": 28,\n",
       "    \"channels\": 1,\n",
       "    \"batch_size\": 128,\n",
       "    \"device\": \"cuda\",\n",
       "    \"checkpoint\": \"checkpoints/2-trained-on-1:last.pt\"\n",
       "}"
      ]
     },
     "execution_count": 55,
     "metadata": {},
     "output_type": "execute_result"
    }
   ],
   "source": [
    "settings.results_folder = Path(\"./6-results-lora-dropout0d\")\n",
    "settings.results_folder.mkdir(exist_ok=True)\n",
    "settings"
   ]
  },
  {
   "cell_type": "code",
   "execution_count": 56,
   "metadata": {},
   "outputs": [
    {
     "data": {
      "application/vnd.jupyter.widget-view+json": {
       "model_id": "664d5d90afe643f4a35c050b96468597",
       "version_major": 2,
       "version_minor": 0
      },
      "text/plain": [
       "sampling loop time step:   0%|          | 0/300 [00:00<?, ?it/s]"
      ]
     },
     "metadata": {},
     "output_type": "display_data"
    },
    {
     "name": "stdout",
     "output_type": "stream",
     "text": [
      "Loss: 0.03206548094749451\n"
     ]
    },
    {
     "data": {
      "application/vnd.jupyter.widget-view+json": {
       "model_id": "020f201394d24a308369f557733dbf5b",
       "version_major": 2,
       "version_minor": 0
      },
      "text/plain": [
       "sampling loop time step:   0%|          | 0/300 [00:00<?, ?it/s]"
      ]
     },
     "metadata": {},
     "output_type": "display_data"
    },
    {
     "name": "stdout",
     "output_type": "stream",
     "text": [
      "Loss: 0.031228838488459587\n"
     ]
    },
    {
     "data": {
      "application/vnd.jupyter.widget-view+json": {
       "model_id": "cfc1c85f04fb43298a680f539291a268",
       "version_major": 2,
       "version_minor": 0
      },
      "text/plain": [
       "sampling loop time step:   0%|          | 0/300 [00:00<?, ?it/s]"
      ]
     },
     "metadata": {},
     "output_type": "display_data"
    },
    {
     "name": "stdout",
     "output_type": "stream",
     "text": [
      "Loss: 0.031087977811694145\n"
     ]
    },
    {
     "data": {
      "application/vnd.jupyter.widget-view+json": {
       "model_id": "5dcf380d1a054097a2be2d1fbef6d161",
       "version_major": 2,
       "version_minor": 0
      },
      "text/plain": [
       "sampling loop time step:   0%|          | 0/300 [00:00<?, ?it/s]"
      ]
     },
     "metadata": {},
     "output_type": "display_data"
    },
    {
     "name": "stdout",
     "output_type": "stream",
     "text": [
      "Loss: 0.031006233766674995\n"
     ]
    },
    {
     "data": {
      "application/vnd.jupyter.widget-view+json": {
       "model_id": "b7c8fb3b1f6b45edb10e96c94a16c537",
       "version_major": 2,
       "version_minor": 0
      },
      "text/plain": [
       "sampling loop time step:   0%|          | 0/300 [00:00<?, ?it/s]"
      ]
     },
     "metadata": {},
     "output_type": "display_data"
    },
    {
     "name": "stdout",
     "output_type": "stream",
     "text": [
      "Loss: 0.030953308567404747\n"
     ]
    },
    {
     "data": {
      "application/vnd.jupyter.widget-view+json": {
       "model_id": "60ed0eed740f43a88a782972866e76e6",
       "version_major": 2,
       "version_minor": 0
      },
      "text/plain": [
       "sampling loop time step:   0%|          | 0/300 [00:00<?, ?it/s]"
      ]
     },
     "metadata": {},
     "output_type": "display_data"
    },
    {
     "name": "stdout",
     "output_type": "stream",
     "text": [
      "Loss: 0.030914517119526863\n"
     ]
    },
    {
     "data": {
      "application/vnd.jupyter.widget-view+json": {
       "model_id": "db4aae27ba7642dc969d6d401ef00233",
       "version_major": 2,
       "version_minor": 0
      },
      "text/plain": [
       "sampling loop time step:   0%|          | 0/300 [00:00<?, ?it/s]"
      ]
     },
     "metadata": {},
     "output_type": "display_data"
    },
    {
     "name": "stdout",
     "output_type": "stream",
     "text": [
      "Loss: 0.03088298626244068\n"
     ]
    },
    {
     "data": {
      "application/vnd.jupyter.widget-view+json": {
       "model_id": "6e84a81307344de38569549e19576aee",
       "version_major": 2,
       "version_minor": 0
      },
      "text/plain": [
       "sampling loop time step:   0%|          | 0/300 [00:00<?, ?it/s]"
      ]
     },
     "metadata": {},
     "output_type": "display_data"
    },
    {
     "name": "stdout",
     "output_type": "stream",
     "text": [
      "Loss: 0.03085593320429325\n"
     ]
    },
    {
     "data": {
      "application/vnd.jupyter.widget-view+json": {
       "model_id": "a7a157addce24cc0a33b2cbdd25d8d81",
       "version_major": 2,
       "version_minor": 0
      },
      "text/plain": [
       "sampling loop time step:   0%|          | 0/300 [00:00<?, ?it/s]"
      ]
     },
     "metadata": {},
     "output_type": "display_data"
    },
    {
     "name": "stdout",
     "output_type": "stream",
     "text": [
      "Loss: 0.030830703675746918\n"
     ]
    },
    {
     "data": {
      "application/vnd.jupyter.widget-view+json": {
       "model_id": "b24ba36a791c46ec898c2cbb6d0570c9",
       "version_major": 2,
       "version_minor": 0
      },
      "text/plain": [
       "sampling loop time step:   0%|          | 0/300 [00:00<?, ?it/s]"
      ]
     },
     "metadata": {},
     "output_type": "display_data"
    },
    {
     "name": "stdout",
     "output_type": "stream",
     "text": [
      "Loss: 0.03080744668841362\n"
     ]
    },
    {
     "data": {
      "application/vnd.jupyter.widget-view+json": {
       "model_id": "b09a5d39833d4521ab9f87689be98bbd",
       "version_major": 2,
       "version_minor": 0
      },
      "text/plain": [
       "sampling loop time step:   0%|          | 0/300 [00:00<?, ?it/s]"
      ]
     },
     "metadata": {},
     "output_type": "display_data"
    }
   ],
   "source": [
    "optimizer = Adam(model.parameters(), lr=1e-3)\n",
    "train(model, optimizer, dataloader, sampler, settings, epochs=10)"
   ]
  },
  {
   "attachments": {},
   "cell_type": "markdown",
   "metadata": {},
   "source": [
    "Лосс стал больше похожим на лосс официальной лоры: он стабилизировался на значении 0.307-0.308, а не 0.317"
   ]
  },
  {
   "cell_type": "code",
   "execution_count": 57,
   "metadata": {},
   "outputs": [
    {
     "name": "stderr",
     "output_type": "stream",
     "text": [
      "ffmpeg version 4.3 Copyright (c) 2000-2020 the FFmpeg developers\n",
      "  built with gcc 7.3.0 (crosstool-NG 1.23.0.449-a04d0)\n",
      "  configuration: --prefix=/opt/conda/conda-bld/ffmpeg_1597178665428/_h_env_placehold_placehold_placehold_placehold_placehold_placehold_placehold_placehold_placehold_placehold_placehold_placehold_placehold_placehold_placehold_placehold_placehold_placehold_placehold_placehold_placeh --cc=/opt/conda/conda-bld/ffmpeg_1597178665428/_build_env/bin/x86_64-conda_cos6-linux-gnu-cc --disable-doc --disable-openssl --enable-avresample --enable-gnutls --enable-hardcoded-tables --enable-libfreetype --enable-libopenh264 --enable-pic --enable-pthreads --enable-shared --disable-static --enable-version3 --enable-zlib --enable-libmp3lame\n",
      "  libavutil      56. 51.100 / 56. 51.100\n",
      "  libavcodec     58. 91.100 / 58. 91.100\n",
      "  libavformat    58. 45.100 / 58. 45.100\n",
      "  libavdevice    58. 10.100 / 58. 10.100\n",
      "  libavfilter     7. 85.100 /  7. 85.100\n",
      "  libavresample   4.  0.  0 /  4.  0.  0\n",
      "  libswscale      5.  7.100 /  5.  7.100\n",
      "  libswresample   3.  7.100 /  3.  7.100\n",
      "Input #0, image2, from '6-results-lora-dropout0d/sample-%d.png':\n",
      "  Duration: 00:00:01.57, start: 0.000000, bitrate: N/A\n",
      "    Stream #0:0: Video: png, rgb24(pc), 242x242, 7 fps, 7 tbr, 7 tbn, 7 tbc\n",
      "Stream mapping:\n",
      "  Stream #0:0 -> #0:0 (png (native) -> gif (native))\n",
      "Press [q] to stop, [?] for help\n",
      "Output #0, gif, to '6-results-lora-dropout0d/sample.gif':\n",
      "  Metadata:\n",
      "    encoder         : Lavf58.45.100\n",
      "    Stream #0:0: Video: gif, bgr8, 242x242, q=2-31, 200 kb/s, 7 fps, 100 tbn, 7 tbc\n",
      "    Metadata:\n",
      "      encoder         : Lavc58.91.100 gif\n",
      "frame=   11 fps=0.0 q=-0.0 Lsize=     160kB time=00:00:01.44 bitrate= 912.7kbits/s speed=23.2x    \n",
      "video:160kB audio:0kB subtitle:0kB other streams:0kB global headers:0kB muxing overhead: 0.012175%\n"
     ]
    }
   ],
   "source": [
    "%%bash\n",
    "DIR=6-results-lora-dropout0d\n",
    "ffmpeg -f image2 -framerate 7 -i $DIR/sample-%d.png -loop -0 $DIR/sample.gif"
   ]
  },
  {
   "attachments": {},
   "cell_type": "markdown",
   "metadata": {},
   "source": [
    "Еще генерации на 10 эпохе модели с Dropout0d и официальной лоры практически идентичны"
   ]
  },
  {
   "attachments": {},
   "cell_type": "markdown",
   "metadata": {},
   "source": [
    "мне генерации dropout0d нравятся больше: картинки более ровные, без артефактов"
   ]
  },
  {
   "attachments": {},
   "cell_type": "markdown",
   "metadata": {},
   "source": [
    "### rank=2"
   ]
  },
  {
   "cell_type": "code",
   "execution_count": 58,
   "metadata": {},
   "outputs": [
    {
     "name": "stdout",
     "output_type": "stream",
     "text": [
      "Injected lora    28 x 4 x 384   in downs.0.2.fn.fn.to_qkv\n",
      "Injected lora   128 x 4 x 28    in downs.0.2.fn.fn.0\n",
      "Injected lora    28 x 4 x 384   in downs.1.2.fn.fn.to_qkv\n",
      "Injected lora   128 x 4 x 28    in downs.1.2.fn.fn.0\n",
      "Injected lora    56 x 4 x 384   in downs.2.2.fn.fn.to_qkv\n",
      "Injected lora   128 x 4 x 56    in downs.2.2.fn.fn.0\n",
      "Injected lora   112 x 4 x 384   in ups.0.2.fn.fn.to_qkv\n",
      "Injected lora   128 x 4 x 112   in ups.0.2.fn.fn.0\n",
      "Injected lora    56 x 4 x 384   in ups.1.2.fn.fn.to_qkv\n",
      "Injected lora   128 x 4 x 56    in ups.1.2.fn.fn.0\n",
      "Injected lora    28 x 4 x 384   in ups.2.2.fn.fn.to_qkv\n",
      "Injected lora   128 x 4 x 28    in ups.2.2.fn.fn.0\n",
      "\n",
      "trainable layers:            24\n",
      "frozen layers:              231\n",
      "total params:           2035009\n"
     ]
    }
   ],
   "source": [
    "set_all_seeds()\n",
    "model = Unet(\n",
    "    dim=settings.image_size,\n",
    "    channels=settings.channels,\n",
    "    dim_mults=(1, 2, 4,)\n",
    ")\n",
    "model.load_state_dict(torch.load(settings.checkpoint))\n",
    "\n",
    "mylora.inject_lora(\n",
    "    model, 4, 0.1,\n",
    "    ['LinearAttention'],\n",
    "    [nn.Conv2d]\n",
    ")\n",
    "model.to(settings.device)\n",
    "\n",
    "mylora.freeze_lora(model)\n",
    "print()\n",
    "mylora.model_summary(model)"
   ]
  },
  {
   "cell_type": "code",
   "execution_count": 59,
   "metadata": {},
   "outputs": [
    {
     "data": {
      "application/vnd.jupyter.widget-view+json": {
       "model_id": "80836a5ba49049feb2a57d03b3434013",
       "version_major": 2,
       "version_minor": 0
      },
      "text/plain": [
       "sampling loop time step:   0%|          | 0/300 [00:00<?, ?it/s]"
      ]
     },
     "metadata": {},
     "output_type": "display_data"
    },
    {
     "name": "stdout",
     "output_type": "stream",
     "text": [
      "Loss: 0.03206548094749451\n"
     ]
    },
    {
     "data": {
      "application/vnd.jupyter.widget-view+json": {
       "model_id": "881ee5e691dc4529aca30bb022fd5218",
       "version_major": 2,
       "version_minor": 0
      },
      "text/plain": [
       "sampling loop time step:   0%|          | 0/300 [00:00<?, ?it/s]"
      ]
     },
     "metadata": {},
     "output_type": "display_data"
    },
    {
     "name": "stdout",
     "output_type": "stream",
     "text": [
      "Loss: 0.031112419441342354\n"
     ]
    },
    {
     "data": {
      "application/vnd.jupyter.widget-view+json": {
       "model_id": "44f7d139c36e4e0d989c1066018b4dd2",
       "version_major": 2,
       "version_minor": 0
      },
      "text/plain": [
       "sampling loop time step:   0%|          | 0/300 [00:00<?, ?it/s]"
      ]
     },
     "metadata": {},
     "output_type": "display_data"
    },
    {
     "name": "stdout",
     "output_type": "stream",
     "text": [
      "Loss: 0.030909627676010132\n"
     ]
    },
    {
     "data": {
      "application/vnd.jupyter.widget-view+json": {
       "model_id": "fa43675aae5e4d9aa9764c445831fb7e",
       "version_major": 2,
       "version_minor": 0
      },
      "text/plain": [
       "sampling loop time step:   0%|          | 0/300 [00:00<?, ?it/s]"
      ]
     },
     "metadata": {},
     "output_type": "display_data"
    },
    {
     "name": "stdout",
     "output_type": "stream",
     "text": [
      "Loss: 0.030770281329751015\n"
     ]
    },
    {
     "data": {
      "application/vnd.jupyter.widget-view+json": {
       "model_id": "54498250cffa4f7a86c8ebfb7483c4f0",
       "version_major": 2,
       "version_minor": 0
      },
      "text/plain": [
       "sampling loop time step:   0%|          | 0/300 [00:00<?, ?it/s]"
      ]
     },
     "metadata": {},
     "output_type": "display_data"
    },
    {
     "name": "stdout",
     "output_type": "stream",
     "text": [
      "Loss: 0.030660543590784073\n"
     ]
    },
    {
     "data": {
      "application/vnd.jupyter.widget-view+json": {
       "model_id": "ed45b781f40d47648b1f8ffe2c075f78",
       "version_major": 2,
       "version_minor": 0
      },
      "text/plain": [
       "sampling loop time step:   0%|          | 0/300 [00:00<?, ?it/s]"
      ]
     },
     "metadata": {},
     "output_type": "display_data"
    },
    {
     "name": "stdout",
     "output_type": "stream",
     "text": [
      "Loss: 0.03056148625910282\n"
     ]
    },
    {
     "data": {
      "application/vnd.jupyter.widget-view+json": {
       "model_id": "170b95e4124b435297bfd8a439eb4145",
       "version_major": 2,
       "version_minor": 0
      },
      "text/plain": [
       "sampling loop time step:   0%|          | 0/300 [00:00<?, ?it/s]"
      ]
     },
     "metadata": {},
     "output_type": "display_data"
    },
    {
     "name": "stdout",
     "output_type": "stream",
     "text": [
      "Loss: 0.03047545999288559\n"
     ]
    },
    {
     "data": {
      "application/vnd.jupyter.widget-view+json": {
       "model_id": "b5dea3320e8942bfa3d1eff876702e29",
       "version_major": 2,
       "version_minor": 0
      },
      "text/plain": [
       "sampling loop time step:   0%|          | 0/300 [00:00<?, ?it/s]"
      ]
     },
     "metadata": {},
     "output_type": "display_data"
    },
    {
     "name": "stdout",
     "output_type": "stream",
     "text": [
      "Loss: 0.03040124475955963\n"
     ]
    },
    {
     "data": {
      "application/vnd.jupyter.widget-view+json": {
       "model_id": "94fab7c98f04482689182e96578dc132",
       "version_major": 2,
       "version_minor": 0
      },
      "text/plain": [
       "sampling loop time step:   0%|          | 0/300 [00:00<?, ?it/s]"
      ]
     },
     "metadata": {},
     "output_type": "display_data"
    },
    {
     "name": "stdout",
     "output_type": "stream",
     "text": [
      "Loss: 0.030336471274495125\n"
     ]
    },
    {
     "data": {
      "application/vnd.jupyter.widget-view+json": {
       "model_id": "833209daffbb4863bdc1374a8e6e043e",
       "version_major": 2,
       "version_minor": 0
      },
      "text/plain": [
       "sampling loop time step:   0%|          | 0/300 [00:00<?, ?it/s]"
      ]
     },
     "metadata": {},
     "output_type": "display_data"
    },
    {
     "name": "stdout",
     "output_type": "stream",
     "text": [
      "Loss: 0.03027975745499134\n"
     ]
    },
    {
     "data": {
      "application/vnd.jupyter.widget-view+json": {
       "model_id": "f89316caa86f4c61bf2e4bd8ac2b949a",
       "version_major": 2,
       "version_minor": 0
      },
      "text/plain": [
       "sampling loop time step:   0%|          | 0/300 [00:00<?, ?it/s]"
      ]
     },
     "metadata": {},
     "output_type": "display_data"
    }
   ],
   "source": [
    "settings.results_folder = Path(\"./7-results-rank=2\")\n",
    "settings.results_folder.mkdir(exist_ok=True)\n",
    "\n",
    "optimizer = Adam(model.parameters(), lr=1e-3)\n",
    "train(model, optimizer, dataloader, sampler, settings, epochs=10)"
   ]
  },
  {
   "cell_type": "code",
   "execution_count": 60,
   "metadata": {},
   "outputs": [
    {
     "name": "stderr",
     "output_type": "stream",
     "text": [
      "ffmpeg version 4.3 Copyright (c) 2000-2020 the FFmpeg developers\n",
      "  built with gcc 7.3.0 (crosstool-NG 1.23.0.449-a04d0)\n",
      "  configuration: --prefix=/opt/conda/conda-bld/ffmpeg_1597178665428/_h_env_placehold_placehold_placehold_placehold_placehold_placehold_placehold_placehold_placehold_placehold_placehold_placehold_placehold_placehold_placehold_placehold_placehold_placehold_placehold_placehold_placeh --cc=/opt/conda/conda-bld/ffmpeg_1597178665428/_build_env/bin/x86_64-conda_cos6-linux-gnu-cc --disable-doc --disable-openssl --enable-avresample --enable-gnutls --enable-hardcoded-tables --enable-libfreetype --enable-libopenh264 --enable-pic --enable-pthreads --enable-shared --disable-static --enable-version3 --enable-zlib --enable-libmp3lame\n",
      "  libavutil      56. 51.100 / 56. 51.100\n",
      "  libavcodec     58. 91.100 / 58. 91.100\n",
      "  libavformat    58. 45.100 / 58. 45.100\n",
      "  libavdevice    58. 10.100 / 58. 10.100\n",
      "  libavfilter     7. 85.100 /  7. 85.100\n",
      "  libavresample   4.  0.  0 /  4.  0.  0\n",
      "  libswscale      5.  7.100 /  5.  7.100\n",
      "  libswresample   3.  7.100 /  3.  7.100\n",
      "Input #0, image2, from '7-results-rank=4/sample-%d.png':\n",
      "  Duration: 00:00:01.57, start: 0.000000, bitrate: N/A\n",
      "    Stream #0:0: Video: png, rgb24(pc), 242x242, 7 fps, 7 tbr, 7 tbn, 7 tbc\n",
      "Stream mapping:\n",
      "  Stream #0:0 -> #0:0 (png (native) -> gif (native))\n",
      "Press [q] to stop, [?] for help\n",
      "Output #0, gif, to '7-results-rank=4/sample.gif':\n",
      "  Metadata:\n",
      "    encoder         : Lavf58.45.100\n",
      "    Stream #0:0: Video: gif, bgr8, 242x242, q=2-31, 200 kb/s, 7 fps, 100 tbn, 7 tbc\n",
      "    Metadata:\n",
      "      encoder         : Lavc58.91.100 gif\n",
      "frame=   11 fps=0.0 q=-0.0 Lsize=     162kB time=00:00:01.44 bitrate= 920.7kbits/s speed=23.4x    \n",
      "video:162kB audio:0kB subtitle:0kB other streams:0kB global headers:0kB muxing overhead: 0.012069%\n"
     ]
    }
   ],
   "source": [
    "%%bash\n",
    "DIR=7-results-rank=4\n",
    "ffmpeg -f image2 -framerate 7 -i $DIR/sample-%d.png -loop -0 $DIR/sample.gif"
   ]
  },
  {
   "attachments": {},
   "cell_type": "markdown",
   "metadata": {},
   "source": [
    "Как будто бы нет разницы с dropout0d"
   ]
  },
  {
   "attachments": {},
   "cell_type": "markdown",
   "metadata": {},
   "source": [
    "### Dropout0d, rank=1, dropout=0.4"
   ]
  },
  {
   "cell_type": "code",
   "execution_count": 7,
   "metadata": {},
   "outputs": [
    {
     "name": "stdout",
     "output_type": "stream",
     "text": [
      "Injected lora    28 x 1 x 384   in downs.0.2.fn.fn.to_qkv\n",
      "Injected lora   128 x 1 x 28    in downs.0.2.fn.fn.0\n",
      "Injected lora    28 x 1 x 384   in downs.1.2.fn.fn.to_qkv\n",
      "Injected lora   128 x 1 x 28    in downs.1.2.fn.fn.0\n",
      "Injected lora    56 x 1 x 384   in downs.2.2.fn.fn.to_qkv\n",
      "Injected lora   128 x 1 x 56    in downs.2.2.fn.fn.0\n",
      "Injected lora   112 x 1 x 384   in ups.0.2.fn.fn.to_qkv\n",
      "Injected lora   128 x 1 x 112   in ups.0.2.fn.fn.0\n",
      "Injected lora    56 x 1 x 384   in ups.1.2.fn.fn.to_qkv\n",
      "Injected lora   128 x 1 x 56    in ups.1.2.fn.fn.0\n",
      "Injected lora    28 x 1 x 384   in ups.2.2.fn.fn.to_qkv\n",
      "Injected lora   128 x 1 x 28    in ups.2.2.fn.fn.0\n",
      "\n",
      "trainable layers:            24\n",
      "frozen layers:              231\n",
      "total params:           2023945\n"
     ]
    }
   ],
   "source": [
    "set_all_seeds()\n",
    "model = Unet(\n",
    "    dim=settings.image_size,\n",
    "    channels=settings.channels,\n",
    "    dim_mults=(1, 2, 4,)\n",
    ")\n",
    "model.load_state_dict(torch.load(settings.checkpoint))\n",
    "\n",
    "mylora.inject_lora(\n",
    "    model, 1, 0.4,\n",
    "    ['LinearAttention'],\n",
    "    [nn.Conv2d]\n",
    ")\n",
    "model.to(settings.device)\n",
    "\n",
    "mylora.freeze_lora(model)\n",
    "print()\n",
    "mylora.model_summary(model)"
   ]
  },
  {
   "cell_type": "code",
   "execution_count": 8,
   "metadata": {},
   "outputs": [
    {
     "data": {
      "application/vnd.jupyter.widget-view+json": {
       "model_id": "54b11b049a604c7180cacaae480923df",
       "version_major": 2,
       "version_minor": 0
      },
      "text/plain": [
       "sampling loop time step:   0%|          | 0/300 [00:00<?, ?it/s]"
      ]
     },
     "metadata": {},
     "output_type": "display_data"
    },
    {
     "name": "stdout",
     "output_type": "stream",
     "text": [
      "Loss: 0.03206548094749451\n"
     ]
    },
    {
     "data": {
      "application/vnd.jupyter.widget-view+json": {
       "model_id": "4f6dcdb570f542da83a0f1a1660423a4",
       "version_major": 2,
       "version_minor": 0
      },
      "text/plain": [
       "sampling loop time step:   0%|          | 0/300 [00:00<?, ?it/s]"
      ]
     },
     "metadata": {},
     "output_type": "display_data"
    },
    {
     "name": "stdout",
     "output_type": "stream",
     "text": [
      "Loss: 0.03126571699976921\n"
     ]
    },
    {
     "data": {
      "application/vnd.jupyter.widget-view+json": {
       "model_id": "9f48686d79434f3198837e4cb21101be",
       "version_major": 2,
       "version_minor": 0
      },
      "text/plain": [
       "sampling loop time step:   0%|          | 0/300 [00:00<?, ?it/s]"
      ]
     },
     "metadata": {},
     "output_type": "display_data"
    },
    {
     "name": "stdout",
     "output_type": "stream",
     "text": [
      "Loss: 0.031140146777033806\n"
     ]
    },
    {
     "data": {
      "application/vnd.jupyter.widget-view+json": {
       "model_id": "d94e79b89a2a4eb3b0d1f8011f8d205b",
       "version_major": 2,
       "version_minor": 0
      },
      "text/plain": [
       "sampling loop time step:   0%|          | 0/300 [00:00<?, ?it/s]"
      ]
     },
     "metadata": {},
     "output_type": "display_data"
    },
    {
     "name": "stdout",
     "output_type": "stream",
     "text": [
      "Loss: 0.03107609413564205\n"
     ]
    },
    {
     "data": {
      "application/vnd.jupyter.widget-view+json": {
       "model_id": "bd9a5a24e28c4d18a48c47b00057c163",
       "version_major": 2,
       "version_minor": 0
      },
      "text/plain": [
       "sampling loop time step:   0%|          | 0/300 [00:00<?, ?it/s]"
      ]
     },
     "metadata": {},
     "output_type": "display_data"
    },
    {
     "name": "stdout",
     "output_type": "stream",
     "text": [
      "Loss: 0.03103799745440483\n"
     ]
    },
    {
     "data": {
      "application/vnd.jupyter.widget-view+json": {
       "model_id": "3f7ee6edd10e48ab8ba5298841f19259",
       "version_major": 2,
       "version_minor": 0
      },
      "text/plain": [
       "sampling loop time step:   0%|          | 0/300 [00:00<?, ?it/s]"
      ]
     },
     "metadata": {},
     "output_type": "display_data"
    },
    {
     "name": "stdout",
     "output_type": "stream",
     "text": [
      "Loss: 0.03100646659731865\n"
     ]
    },
    {
     "data": {
      "application/vnd.jupyter.widget-view+json": {
       "model_id": "129ece1cfb584a0da442549ee9a38504",
       "version_major": 2,
       "version_minor": 0
      },
      "text/plain": [
       "sampling loop time step:   0%|          | 0/300 [00:00<?, ?it/s]"
      ]
     },
     "metadata": {},
     "output_type": "display_data"
    },
    {
     "name": "stdout",
     "output_type": "stream",
     "text": [
      "Loss: 0.030982419848442078\n"
     ]
    },
    {
     "data": {
      "application/vnd.jupyter.widget-view+json": {
       "model_id": "5a70df62d50a4a7d829bf834f301bb75",
       "version_major": 2,
       "version_minor": 0
      },
      "text/plain": [
       "sampling loop time step:   0%|          | 0/300 [00:00<?, ?it/s]"
      ]
     },
     "metadata": {},
     "output_type": "display_data"
    },
    {
     "name": "stdout",
     "output_type": "stream",
     "text": [
      "Loss: 0.03095947578549385\n"
     ]
    },
    {
     "data": {
      "application/vnd.jupyter.widget-view+json": {
       "model_id": "1e8b7673d2f74831a2395ace63c8fc0d",
       "version_major": 2,
       "version_minor": 0
      },
      "text/plain": [
       "sampling loop time step:   0%|          | 0/300 [00:00<?, ?it/s]"
      ]
     },
     "metadata": {},
     "output_type": "display_data"
    },
    {
     "name": "stdout",
     "output_type": "stream",
     "text": [
      "Loss: 0.030934074893593788\n"
     ]
    },
    {
     "data": {
      "application/vnd.jupyter.widget-view+json": {
       "model_id": "8726b85c46be4973a4ccd2972d01f94c",
       "version_major": 2,
       "version_minor": 0
      },
      "text/plain": [
       "sampling loop time step:   0%|          | 0/300 [00:00<?, ?it/s]"
      ]
     },
     "metadata": {},
     "output_type": "display_data"
    },
    {
     "name": "stdout",
     "output_type": "stream",
     "text": [
      "Loss: 0.030912069603800774\n"
     ]
    },
    {
     "data": {
      "application/vnd.jupyter.widget-view+json": {
       "model_id": "cf92ef10f0344edc93d47b0feefef34d",
       "version_major": 2,
       "version_minor": 0
      },
      "text/plain": [
       "sampling loop time step:   0%|          | 0/300 [00:00<?, ?it/s]"
      ]
     },
     "metadata": {},
     "output_type": "display_data"
    }
   ],
   "source": [
    "settings.results_folder = Path(\"./8-results_rank=1_dropout=0.1\")\n",
    "settings.results_folder.mkdir(exist_ok=True)\n",
    "\n",
    "optimizer = Adam(model.parameters(), lr=1e-3)\n",
    "train(model, optimizer, dataloader, sampler, settings, epochs=10)"
   ]
  },
  {
   "cell_type": "code",
   "execution_count": 10,
   "metadata": {},
   "outputs": [
    {
     "name": "stderr",
     "output_type": "stream",
     "text": [
      "ffmpeg version 4.3 Copyright (c) 2000-2020 the FFmpeg developers\n",
      "  built with gcc 7.3.0 (crosstool-NG 1.23.0.449-a04d0)\n",
      "  configuration: --prefix=/opt/conda/conda-bld/ffmpeg_1597178665428/_h_env_placehold_placehold_placehold_placehold_placehold_placehold_placehold_placehold_placehold_placehold_placehold_placehold_placehold_placehold_placehold_placehold_placehold_placehold_placehold_placehold_placeh --cc=/opt/conda/conda-bld/ffmpeg_1597178665428/_build_env/bin/x86_64-conda_cos6-linux-gnu-cc --disable-doc --disable-openssl --enable-avresample --enable-gnutls --enable-hardcoded-tables --enable-libfreetype --enable-libopenh264 --enable-pic --enable-pthreads --enable-shared --disable-static --enable-version3 --enable-zlib --enable-libmp3lame\n",
      "  libavutil      56. 51.100 / 56. 51.100\n",
      "  libavcodec     58. 91.100 / 58. 91.100\n",
      "  libavformat    58. 45.100 / 58. 45.100\n",
      "  libavdevice    58. 10.100 / 58. 10.100\n",
      "  libavfilter     7. 85.100 /  7. 85.100\n",
      "  libavresample   4.  0.  0 /  4.  0.  0\n",
      "  libswscale      5.  7.100 /  5.  7.100\n",
      "  libswresample   3.  7.100 /  3.  7.100\n",
      "Input #0, image2, from '8-results_rank=1_dropout=0.1/sample-%d.png':\n",
      "  Duration: 00:00:01.57, start: 0.000000, bitrate: N/A\n",
      "    Stream #0:0: Video: png, rgb24(pc), 242x242, 7 fps, 7 tbr, 7 tbn, 7 tbc\n",
      "Stream mapping:\n",
      "  Stream #0:0 -> #0:0 (png (native) -> gif (native))\n",
      "Press [q] to stop, [?] for help\n",
      "Output #0, gif, to '8-results_rank=1_dropout=0.1/sample.gif':\n",
      "  Metadata:\n",
      "    encoder         : Lavf58.45.100\n",
      "    Stream #0:0: Video: gif, bgr8, 242x242, q=2-31, 200 kb/s, 7 fps, 100 tbn, 7 tbc\n",
      "    Metadata:\n",
      "      encoder         : Lavc58.91.100 gif\n",
      "frame=   11 fps=0.0 q=-0.0 Lsize=     157kB time=00:00:01.44 bitrate= 895.8kbits/s speed=24.3x    \n",
      "video:157kB audio:0kB subtitle:0kB other streams:0kB global headers:0kB muxing overhead: 0.012405%\n"
     ]
    }
   ],
   "source": [
    "%%bash\n",
    "DIR=8-results_rank=1_dropout=0.1\n",
    "ffmpeg -f image2 -framerate 7 -i $DIR/sample-%d.png -loop -0 $DIR/sample.gif"
   ]
  },
  {
   "attachments": {},
   "cell_type": "markdown",
   "metadata": {},
   "source": [
    "По качеству почти неразличимы, но стало чуть меньше артефактов"
   ]
  }
 ],
 "metadata": {
  "kernelspec": {
   "display_name": "base",
   "language": "python",
   "name": "python3"
  },
  "language_info": {
   "codemirror_mode": {
    "name": "ipython",
    "version": 3
   },
   "file_extension": ".py",
   "mimetype": "text/x-python",
   "name": "python",
   "nbconvert_exporter": "python",
   "pygments_lexer": "ipython3",
   "version": "3.10.10"
  },
  "orig_nbformat": 4
 },
 "nbformat": 4,
 "nbformat_minor": 2
}
