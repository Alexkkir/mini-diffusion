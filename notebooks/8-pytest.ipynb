{
 "cells": [
  {
   "cell_type": "code",
   "execution_count": 1,
   "metadata": {},
   "outputs": [
    {
     "name": "stdout",
     "output_type": "stream",
     "text": [
      "/Users/akkirr/Desktop/IT/annotated-diffusion\n"
     ]
    }
   ],
   "source": [
    "%load_ext autoreload\n",
    "%autoreload 2\n",
    "%cd .."
   ]
  },
  {
   "cell_type": "code",
   "execution_count": 2,
   "metadata": {},
   "outputs": [],
   "source": [
    "import pytest\n",
    "import torch\n",
    "from torch import nn\n",
    "from torch.optim import Adam\n",
    "from copy import deepcopy\n",
    "\n",
    "from lora import *\n",
    "from lora.lora import LORA_MODULES\n",
    "from lora.utils import isinstance_by_class, unfreeze_module\n",
    "\n",
    "class Attention(nn.Module):\n",
    "    def __init__(self):\n",
    "        super().__init__()\n",
    "        self.QKV = nn.Linear(1, 1)\n",
    "        self.C = nn.Linear(1, 1)\n",
    "        self.lrelu = nn.LeakyReLU()\n",
    "\n",
    "    def forward(self, x):\n",
    "        return self.C(self.lrelu(self.QKV(x)))\n",
    "\n",
    "\n",
    "class TimeEmbedding(nn.Module):\n",
    "    def __init__(self):\n",
    "        super().__init__()\n",
    "        self.time_proj = nn.Linear(1, 1)\n",
    "        self.lrelu = nn.LeakyReLU()\n",
    "\n",
    "    def forward(self, x):\n",
    "        return self.lrelu(self.time_proj(x))\n",
    "\n",
    "class A(nn.Module):\n",
    "    def __init__(self):\n",
    "        super().__init__()\n",
    "        self.just_linear = nn.Linear(1, 1)\n",
    "        self.attn = Attention()\n",
    "        self.time_embedder = TimeEmbedding()\n",
    "\n",
    "    def forward(self, x):\n",
    "        return self.attn(self.just_linear(x) + self.time_embedder(x))\n",
    "\n",
    "def models_eq(sd1, sd2, keys):\n",
    "    return all(torch.allclose(sd1[key], sd2[key]) for key in keys)\n",
    "\n",
    "def models_neq(sd1, sd2, keys):\n",
    "    return all(not torch.allclose(sd1[key], sd2[key]) for key in keys)\n",
    "\n",
    "def find_lora_modules(model: nn.Module, lora_modules=LORA_MODULES):\n",
    "    for name, module in model.named_modules():\n",
    "        if isinstance_by_class(module, lora_modules):\n",
    "            yield name"
   ]
  },
  {
   "cell_type": "code",
   "execution_count": 24,
   "metadata": {},
   "outputs": [
    {
     "name": "stdout",
     "output_type": "stream",
     "text": [
      "Injected lora (1x2x1) in attn.QKV\n",
      "Injected lora (1x2x1) in attn.C\n",
      "A False False\n",
      "Linear True False\n",
      "Attention False False\n",
      "LoraInjectedLinear False True\n",
      "*\n",
      "LoraInjectedLinear False True\n",
      "*\n",
      "LeakyReLU True False\n",
      "TimeEmbedding False False\n",
      "Linear True False\n",
      "LeakyReLU True False\n",
      "\n",
      "{'attn.C.src_linear.bias', 'attn.QKV.src_linear.weight', 'just_linear.bias', 'attn.C.src_linear.weight', 'attn.C.lora_up.weight', 'time_embedder.time_proj.weight', 'attn.QKV.lora_up.weight', 'attn.QKV.lora_down.weight', 'just_linear.weight', 'attn.C.lora_down.weight', 'attn.QKV.src_linear.bias', 'time_embedder.time_proj.bias'}\n",
      "\n",
      "{'attn.QKV.lora_up.weight', 'attn.QKV.lora_down.weight', 'attn.C.lora_down.weight', 'attn.C.lora_up.weight'}\n",
      "\n",
      "just_linear.weight\n",
      "tensor([[-0.0075]])\n",
      "just_linear.bias\n",
      "tensor([0.5364])\n",
      "attn.QKV.src_linear.weight\n",
      "tensor([[-0.8230]])\n",
      "attn.QKV.src_linear.bias\n",
      "tensor([-0.7359])\n",
      "attn.QKV.lora_down.weight\n",
      "tensor([[0.2017],\n",
      "        [0.4190]])\n",
      "attn.QKV.lora_up.weight\n",
      "tensor([[0., 0.]])\n",
      "attn.C.src_linear.weight\n",
      "tensor([[-0.3852]])\n",
      "attn.C.src_linear.bias\n",
      "tensor([0.2682])\n",
      "attn.C.lora_down.weight\n",
      "tensor([[-0.2983],\n",
      "        [ 0.0910]])\n",
      "attn.C.lora_up.weight\n",
      "tensor([[0., 0.]])\n",
      "time_embedder.time_proj.weight\n",
      "tensor([[-0.0198]])\n",
      "time_embedder.time_proj.bias\n",
      "tensor([0.7929])\n",
      "\n",
      "just_linear.weight\n",
      "tensor([[-0.0075]])\n",
      "just_linear.bias\n",
      "tensor([0.5364])\n",
      "attn.QKV.src_linear.weight\n",
      "tensor([[-0.8230]])\n",
      "attn.QKV.src_linear.bias\n",
      "tensor([-0.7359])\n",
      "attn.QKV.lora_down.weight\n",
      "tensor([[0.2017],\n",
      "        [0.4190]])\n",
      "attn.QKV.lora_up.weight\n",
      "tensor([[0.0010, 0.0010]])\n",
      "attn.C.src_linear.weight\n",
      "tensor([[-0.3852]])\n",
      "attn.C.src_linear.bias\n",
      "tensor([0.2682])\n",
      "attn.C.lora_down.weight\n",
      "tensor([[-0.2983],\n",
      "        [ 0.0910]])\n",
      "attn.C.lora_up.weight\n",
      "tensor([[-0.0010,  0.0010]])\n",
      "time_embedder.time_proj.weight\n",
      "tensor([[-0.0198]])\n",
      "time_embedder.time_proj.bias\n",
      "tensor([0.7929])\n"
     ]
    },
    {
     "ename": "AssertionError",
     "evalue": "",
     "output_type": "error",
     "traceback": [
      "\u001b[0;31m---------------------------------------------------------------------------\u001b[0m",
      "\u001b[0;31mAssertionError\u001b[0m                            Traceback (most recent call last)",
      "Cell \u001b[0;32mIn[24], line 48\u001b[0m\n\u001b[1;32m     45\u001b[0m     \u001b[39mprint\u001b[39m(b)\n\u001b[1;32m     47\u001b[0m \u001b[39massert\u001b[39;00m models_eq(sd1, sd2, all_keys \u001b[39m-\u001b[39m lora_keys)\n\u001b[0;32m---> 48\u001b[0m \u001b[39massert\u001b[39;00m models_neq(sd1, sd2, lora_keys)\n",
      "\u001b[0;31mAssertionError\u001b[0m: "
     ]
    }
   ],
   "source": [
    "torch.manual_seed(0)\n",
    "\n",
    "model = A()\n",
    "\n",
    "inject_lora(\n",
    "    model,\n",
    "    2, 0,\n",
    "    [\"Attention\"],\n",
    "    [nn.Linear],\n",
    "    [LoraInjectedLinear],\n",
    "    verbose=True\n",
    ")\n",
    "optim = Adam(model.parameters())\n",
    "freeze_lora(model)\n",
    "sd1 = deepcopy(model.state_dict())\n",
    "\n",
    "x = torch.tensor([[1]], dtype=torch.float32)\n",
    "\n",
    "optim.zero_grad()\n",
    "loss1 = model(x).mean()\n",
    "loss1.backward()\n",
    "optim.step()\n",
    "\n",
    "optim.zero_grad()\n",
    "loss2 = model(x).mean()\n",
    "loss2.backward()\n",
    "optim.step()\n",
    "\n",
    "optim.zero_grad()\n",
    "loss2 = model(x).mean()\n",
    "loss2.backward()\n",
    "optim.step()\n",
    "\n",
    "loss3 = model(x).mean()\n",
    "assert loss3 != loss1\n",
    "\n",
    "sd2 = deepcopy(model.state_dict())\n",
    "\n",
    "all_keys = set(sd2.keys())\n",
    "lora_keys = {k for k in all_keys if 'lora_up' in k or 'lora_down' in k}\n",
    "print()\n",
    "print(all_keys)\n",
    "print()\n",
    "print(lora_keys)\n",
    "print()\n",
    "\n",
    "for a, b in sd1.items():\n",
    "    print(a)\n",
    "    print(b)\n",
    "print()\n",
    "for a, b in sd2.items():\n",
    "    print(a)\n",
    "    print(b)\n",
    "\n",
    "assert models_eq(sd1, sd2, all_keys - lora_keys)\n",
    "assert models_neq(sd1, sd2, lora_keys)\n"
   ]
  },
  {
   "cell_type": "code",
   "execution_count": 4,
   "metadata": {},
   "outputs": [
    {
     "name": "stdout",
     "output_type": "stream",
     "text": [
      "attn.QKV.lora_down.weight\n",
      "attn.QKV.lora_up.weight\n",
      "attn.C.lora_down.weight\n",
      "attn.C.lora_up.weight\n"
     ]
    }
   ],
   "source": [
    "for name, p in model.named_parameters():\n",
    "    if p.requires_grad:\n",
    "        print(name)"
   ]
  },
  {
   "cell_type": "code",
   "execution_count": 22,
   "metadata": {},
   "outputs": [
    {
     "name": "stdout",
     "output_type": "stream",
     "text": [
      "tensor(0.2751, grad_fn=<MeanBackward0>)\n"
     ]
    }
   ],
   "source": [
    "loss = model(x).mean()\n",
    "loss.backward()\n",
    "optim.step()\n",
    "optim.zero_grad()\n",
    "print(loss)"
   ]
  },
  {
   "cell_type": "code",
   "execution_count": 23,
   "metadata": {},
   "outputs": [
    {
     "data": {
      "text/plain": [
       "tensor([[-0.0111, -0.0231]])"
      ]
     },
     "execution_count": 23,
     "metadata": {},
     "output_type": "execute_result"
    }
   ],
   "source": [
    "model.attn.QKV.lora_up.weight.grad"
   ]
  },
  {
   "cell_type": "code",
   "execution_count": null,
   "metadata": {},
   "outputs": [],
   "source": []
  }
 ],
 "metadata": {
  "kernelspec": {
   "display_name": "base",
   "language": "python",
   "name": "python3"
  },
  "language_info": {
   "codemirror_mode": {
    "name": "ipython",
    "version": 3
   },
   "file_extension": ".py",
   "mimetype": "text/x-python",
   "name": "python",
   "nbconvert_exporter": "python",
   "pygments_lexer": "ipython3",
   "version": "3.10.10"
  },
  "orig_nbformat": 4
 },
 "nbformat": 4,
 "nbformat_minor": 2
}
