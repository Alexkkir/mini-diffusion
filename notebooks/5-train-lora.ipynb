{
 "cells": [
  {
   "cell_type": "code",
   "execution_count": 1,
   "metadata": {},
   "outputs": [
    {
     "name": "stdout",
     "output_type": "stream",
     "text": [
      "/Users/akkirr/Desktop/IT/annotated-diffusion\n"
     ]
    }
   ],
   "source": [
    "%load_ext autoreload\n",
    "%autoreload 2\n",
    "%cd .."
   ]
  },
  {
   "cell_type": "code",
   "execution_count": 2,
   "metadata": {},
   "outputs": [],
   "source": [
    "%matplotlib inline\n",
    "import matplotlib.pyplot as plt\n",
    "from tqdm.auto import tqdm\n",
    "from pathlib import Path\n",
    "\n",
    "import torch\n",
    "from torch import nan_to_num\n",
    "from torchvision import transforms\n",
    "from torch.utils.data import DataLoader\n",
    "\n",
    "import numpy as np\n",
    "from PIL import Image\n",
    "import requests\n",
    "\n",
    "from datasets import load_dataset\n",
    "from torchvision.utils import save_image\n",
    "from torch.optim import Adam"
   ]
  },
  {
   "cell_type": "code",
   "execution_count": 182,
   "metadata": {},
   "outputs": [],
   "source": [
    "from mylib import *\n",
    "from lora import *"
   ]
  },
  {
   "cell_type": "code",
   "execution_count": 4,
   "metadata": {},
   "outputs": [],
   "source": [
    "sampler = Sampler(linear_beta_schedule, 300)"
   ]
  },
  {
   "cell_type": "code",
   "execution_count": 5,
   "metadata": {},
   "outputs": [
    {
     "name": "stderr",
     "output_type": "stream",
     "text": [
      "Found cached dataset fashion_mnist (/Users/akkirr/.cache/huggingface/datasets/fashion_mnist/fashion_mnist/1.0.0/0a671f063342996f19779d38c0ab4abef9c64f757b35af8134b331c294d7ba48)\n"
     ]
    },
    {
     "data": {
      "application/vnd.jupyter.widget-view+json": {
       "model_id": "dc32d51abcff49c9bc7960fb76ff0418",
       "version_major": 2,
       "version_minor": 0
      },
      "text/plain": [
       "  0%|          | 0/2 [00:00<?, ?it/s]"
      ]
     },
     "metadata": {},
     "output_type": "display_data"
    }
   ],
   "source": [
    "# load dataset from the hub\n",
    "dataset = load_dataset(\"fashion_mnist\")\n",
    "image_size = 28\n",
    "channels = 1\n",
    "batch_size = 128"
   ]
  },
  {
   "cell_type": "code",
   "execution_count": 6,
   "metadata": {},
   "outputs": [
    {
     "data": {
      "application/vnd.jupyter.widget-view+json": {
       "model_id": "5fc6c0defea74d5787ea719502ea4151",
       "version_major": 2,
       "version_minor": 0
      },
      "text/plain": [
       "Filter:   0%|          | 0/60000 [00:00<?, ? examples/s]"
      ]
     },
     "metadata": {},
     "output_type": "display_data"
    },
    {
     "data": {
      "application/vnd.jupyter.widget-view+json": {
       "model_id": "cff0e4dd389a48b295567dc10e741213",
       "version_major": 2,
       "version_minor": 0
      },
      "text/plain": [
       "Filter:   0%|          | 0/10000 [00:00<?, ? examples/s]"
      ]
     },
     "metadata": {},
     "output_type": "display_data"
    }
   ],
   "source": [
    "# define image transformations (e.g. using torchvision)\n",
    "transform = Compose([\n",
    "            transforms.RandomHorizontalFlip(),\n",
    "            transforms.ToTensor(),\n",
    "            transforms.Lambda(lambda t: (t * 2) - 1)\n",
    "])\n",
    "\n",
    "# define function\n",
    "def transforms(examples):\n",
    "   examples[\"pixel_values\"] = [transform(image.convert(\"L\")) for image in examples[\"image\"]]\n",
    "   del examples[\"image\"]\n",
    "\n",
    "   return examples\n",
    "\n",
    "transformed_dataset = dataset.with_transform(transforms).filter(lambda x: x['label'] == 0).remove_columns(\"label\")\n",
    "\n",
    "# create dataloader\n",
    "dataloader = DataLoader(transformed_dataset[\"train\"], batch_size=batch_size, shuffle=True)"
   ]
  },
  {
   "cell_type": "code",
   "execution_count": 7,
   "metadata": {},
   "outputs": [
    {
     "name": "stdout",
     "output_type": "stream",
     "text": [
      "dict_keys(['pixel_values'])\n"
     ]
    }
   ],
   "source": [
    "batch = next(iter(dataloader))\n",
    "print(batch.keys())"
   ]
  },
  {
   "cell_type": "code",
   "execution_count": 8,
   "metadata": {},
   "outputs": [],
   "source": [
    "results_folder = Path(\"./results_lora\")\n",
    "results_folder.mkdir(exist_ok = True)\n",
    "save_and_sample_every = 1000"
   ]
  },
  {
   "attachments": {},
   "cell_type": "markdown",
   "metadata": {},
   "source": [
    "# Lora"
   ]
  },
  {
   "cell_type": "code",
   "execution_count": 9,
   "metadata": {},
   "outputs": [],
   "source": [
    "device = \"cuda\" if torch.cuda.is_available() else \"cpu\"\n",
    "\n",
    "model = Unet(\n",
    "    dim=image_size,\n",
    "    channels=channels,\n",
    "    dim_mults=(1, 2, 4,)\n",
    ")\n",
    "model.to(device)\n",
    "\n",
    "optimizer = Adam(model.parameters(), lr=1e-3)"
   ]
  },
  {
   "cell_type": "code",
   "execution_count": 68,
   "metadata": {},
   "outputs": [],
   "source": [
    "model1 = Unet(\n",
    "    dim=image_size,\n",
    "    channels=channels,\n",
    "    dim_mults=(1, 2, 4,)\n",
    ")\n",
    "model2 = Unet(\n",
    "    dim=image_size,\n",
    "    channels=channels,\n",
    "    dim_mults=(1, 2, 4,)\n",
    ")"
   ]
  },
  {
   "cell_type": "code",
   "execution_count": 69,
   "metadata": {},
   "outputs": [
    {
     "data": {
      "text/plain": [
       "tensor(2.6843)"
      ]
     },
     "execution_count": 69,
     "metadata": {},
     "output_type": "execute_result"
    }
   ],
   "source": [
    "from copy import deepcopy\n",
    "sd1 = deepcopy(model1.state_dict())\n",
    "sd1['init_conv.weight'].sum()"
   ]
  },
  {
   "cell_type": "code",
   "execution_count": 70,
   "metadata": {},
   "outputs": [
    {
     "data": {
      "text/plain": [
       "(tensor(2.6843), tensor(0.))"
      ]
     },
     "execution_count": 70,
     "metadata": {},
     "output_type": "execute_result"
    }
   ],
   "source": [
    "nn.init.zeros_(model1.init_conv.weight)\n",
    "sd2 = model1.state_dict()\n",
    "sd1['init_conv.weight'].sum(), sd2['init_conv.weight'].sum()"
   ]
  },
  {
   "cell_type": "code",
   "execution_count": 75,
   "metadata": {},
   "outputs": [],
   "source": [
    "class Attention(nn.Module):\n",
    "    def __init__(self):\n",
    "        super().__init__()\n",
    "        self.QKV = nn.Linear(1, 1)\n",
    "        self.C = nn.Linear(1, 1)\n",
    "        self.lrelu = nn.LeakyReLU()\n",
    "\n",
    "    def forward(self, x):\n",
    "        return self.C(self.lrelu(self.QKV(x)))\n",
    "\n",
    "\n",
    "class TimeEmbedding(nn.Module):\n",
    "    def __init__(self):\n",
    "        super().__init__()\n",
    "        self.time_proj = nn.Linear(1, 1)\n",
    "        self.lrelu = nn.LeakyReLU()\n",
    "\n",
    "    def forward(self, x):\n",
    "        return self.lrelu(self.time_proj(x))\n",
    "\n",
    "\n",
    "class LoraInjected(nn.Module):\n",
    "    def __init__(self):\n",
    "        super().__init__()\n",
    "        self.src_linear = nn.Linear(1, 1)\n",
    "        self.A = nn.Linear(1, 1)\n",
    "        self.B = nn.Linear(1, 1)\n",
    "        self.dropout = nn.Dropout1d()\n",
    "\n",
    "    def forward(self, x):\n",
    "        return self.src_linear(x) + self.dropout(self.B(self.A(x)))\n",
    "\n",
    "\n",
    "class A(nn.Module):\n",
    "    def __init__(self):\n",
    "        super().__init__()\n",
    "        self.just_linear = nn.Linear(1, 1)\n",
    "        self.attn = Attention()\n",
    "        self.time_embedder = TimeEmbedding()\n",
    "\n",
    "    def forward(self, x):\n",
    "        return self.attn(self.just_linear(x) + self.time_embedder(x))"
   ]
  },
  {
   "cell_type": "code",
   "execution_count": 167,
   "metadata": {},
   "outputs": [],
   "source": [
    "from torch.optim import Adam\n",
    "from copy import deepcopy\n",
    "\n",
    "a = A()\n",
    "optim = Adam(a.parameters())"
   ]
  },
  {
   "cell_type": "code",
   "execution_count": 168,
   "metadata": {},
   "outputs": [
    {
     "data": {
      "text/plain": [
       "tensor([[0.1108]], grad_fn=<AddmmBackward0>)"
      ]
     },
     "execution_count": 168,
     "metadata": {},
     "output_type": "execute_result"
    }
   ],
   "source": [
    "sd1 = deepcopy(a.state_dict())\n",
    "inp = torch.tensor([[1]], dtype=torch.float32)\n",
    "a(inp)"
   ]
  },
  {
   "cell_type": "code",
   "execution_count": 3,
   "metadata": {},
   "outputs": [
    {
     "ename": "NameError",
     "evalue": "name 'a' is not defined",
     "output_type": "error",
     "traceback": [
      "\u001b[0;31m---------------------------------------------------------------------------\u001b[0m",
      "\u001b[0;31mNameError\u001b[0m                                 Traceback (most recent call last)",
      "Cell \u001b[0;32mIn[3], line 1\u001b[0m\n\u001b[0;32m----> 1\u001b[0m loss \u001b[39m=\u001b[39m a(inp)\u001b[39m.\u001b[39mmean()\n\u001b[1;32m      2\u001b[0m loss\u001b[39m.\u001b[39mbackward()\n\u001b[1;32m      3\u001b[0m optim\u001b[39m.\u001b[39mstep()\n",
      "\u001b[0;31mNameError\u001b[0m: name 'a' is not defined"
     ]
    }
   ],
   "source": [
    "loss = a(inp).mean()\n",
    "loss.backward()\n",
    "optim.step()\n",
    "optim.zero_grad()\n",
    "\n",
    "sd2 = deepcopy(a.state_dict())\n",
    "a(inp).mean()"
   ]
  },
  {
   "cell_type": "code",
   "execution_count": null,
   "metadata": {},
   "outputs": [],
   "source": [
    "inject_lora(\n",
    "        a,\n",
    "        2, 0\n",
    "        [\"Attention\"],\n",
    "        [nn.Linear],\n",
    "        [LoraInjectedLinear],\n",
    "        verbose=True\n",
    "    )"
   ]
  },
  {
   "cell_type": "code",
   "execution_count": 2,
   "metadata": {},
   "outputs": [
    {
     "ename": "NameError",
     "evalue": "name 'inject_lora' is not defined",
     "output_type": "error",
     "traceback": [
      "\u001b[0;31m---------------------------------------------------------------------------\u001b[0m",
      "\u001b[0;31mNameError\u001b[0m                                 Traceback (most recent call last)",
      "Cell \u001b[0;32mIn[2], line 4\u001b[0m\n\u001b[1;32m      1\u001b[0m \u001b[39mimport\u001b[39;00m \u001b[39mtorchvision\u001b[39;00m\n\u001b[1;32m      2\u001b[0m model \u001b[39m=\u001b[39m torchvision\u001b[39m.\u001b[39mmodels\u001b[39m.\u001b[39mresnet18()\n\u001b[0;32m----> 4\u001b[0m inject_lora(\n\u001b[1;32m      5\u001b[0m         a,\n\u001b[1;32m      6\u001b[0m         \u001b[39m2\u001b[39m, \u001b[39m0\u001b[39m,\n\u001b[1;32m      7\u001b[0m         [\u001b[39m\"\u001b[39m\u001b[39mAttention\u001b[39m\u001b[39m\"\u001b[39m],\n\u001b[1;32m      8\u001b[0m         [nn\u001b[39m.\u001b[39mConv2d],\n\u001b[1;32m      9\u001b[0m         [LoraInjectedConv2d],\n\u001b[1;32m     10\u001b[0m         verbose\u001b[39m=\u001b[39m\u001b[39mTrue\u001b[39;00m\n\u001b[1;32m     11\u001b[0m     )\n",
      "\u001b[0;31mNameError\u001b[0m: name 'inject_lora' is not defined"
     ]
    }
   ],
   "source": [
    "import torchvision\n",
    "model = torchvision.models.resnet18()\n",
    "\n",
    "inject_lora(\n",
    "        a,\n",
    "        2, 0,\n",
    "        [\"Attention\"],\n",
    "        [nn.Conv2d],\n",
    "        [LoraInjectedConv2d],\n",
    "        verbose=True\n",
    "    )"
   ]
  },
  {
   "cell_type": "code",
   "execution_count": 177,
   "metadata": {},
   "outputs": [
    {
     "data": {
      "text/plain": [
       "tensor([-0.0439])"
      ]
     },
     "execution_count": 177,
     "metadata": {},
     "output_type": "execute_result"
    }
   ],
   "source": [
    "sd1['attn.C.bias']"
   ]
  },
  {
   "cell_type": "code",
   "execution_count": 178,
   "metadata": {},
   "outputs": [
    {
     "data": {
      "text/plain": [
       "tensor([-0.0469])"
      ]
     },
     "execution_count": 178,
     "metadata": {},
     "output_type": "execute_result"
    }
   ],
   "source": [
    "sd2['attn.C.bias']"
   ]
  },
  {
   "cell_type": "code",
   "execution_count": 172,
   "metadata": {},
   "outputs": [
    {
     "data": {
      "text/plain": [
       "tensor([-0.0449])"
      ]
     },
     "execution_count": 172,
     "metadata": {},
     "output_type": "execute_result"
    }
   ],
   "source": [
    "sd2['attn.C.bias']"
   ]
  },
  {
   "cell_type": "code",
   "execution_count": 43,
   "metadata": {},
   "outputs": [],
   "source": [
    "def models_eq(model1, model2, keys):\n",
    "    sd1 = model1.state_dict()\n",
    "    sd2 = model2.state_dict()\n",
    "    return all(torch.allclose(sd1[key], sd2[key]) for key in keys)"
   ]
  },
  {
   "cell_type": "code",
   "execution_count": 44,
   "metadata": {},
   "outputs": [
    {
     "data": {
      "text/plain": [
       "False"
      ]
     },
     "execution_count": 44,
     "metadata": {},
     "output_type": "execute_result"
    }
   ],
   "source": [
    "models_eq(model2, model1, model1.state_dict().keys())"
   ]
  },
  {
   "cell_type": "code",
   "execution_count": 45,
   "metadata": {},
   "outputs": [
    {
     "data": {
      "text/plain": [
       "True"
      ]
     },
     "execution_count": 45,
     "metadata": {},
     "output_type": "execute_result"
    }
   ],
   "source": [
    "model2.load_state_dict(model1.state_dict())\n",
    "models_eq(model2, model1, model1.state_dict().keys())"
   ]
  },
  {
   "cell_type": "code",
   "execution_count": null,
   "metadata": {},
   "outputs": [],
   "source": [
    "model1.load_state_dict"
   ]
  },
  {
   "cell_type": "code",
   "execution_count": 21,
   "metadata": {},
   "outputs": [
    {
     "data": {
      "text/plain": [
       "<All keys matched successfully>"
      ]
     },
     "execution_count": 21,
     "metadata": {},
     "output_type": "execute_result"
    }
   ],
   "source": [
    "# model.load_state_dict(torch.load('checkpoints/1-not-trained.pt'))"
   ]
  },
  {
   "cell_type": "code",
   "execution_count": 50,
   "metadata": {},
   "outputs": [
    {
     "data": {
      "text/plain": [
       "True"
      ]
     },
     "execution_count": 50,
     "metadata": {},
     "output_type": "execute_result"
    }
   ],
   "source": [
    "isinstance(nn.Linear(1, 1), tuple([nn.Linear]))"
   ]
  },
  {
   "cell_type": "code",
   "execution_count": 53,
   "metadata": {},
   "outputs": [
    {
     "name": "stdout",
     "output_type": "stream",
     "text": [
      "to_qkv False Conv2d\n",
      "to_out False Sequential\n",
      "0 False Conv2d\n",
      "1 False GroupNorm\n",
      "to_qkv False Conv2d\n",
      "to_out False Sequential\n",
      "0 False Conv2d\n",
      "1 False GroupNorm\n",
      "to_qkv False Conv2d\n",
      "to_out False Sequential\n",
      "0 False Conv2d\n",
      "1 False GroupNorm\n",
      "to_qkv False Conv2d\n",
      "to_out False Sequential\n",
      "0 False Conv2d\n",
      "1 False GroupNorm\n",
      "to_qkv False Conv2d\n",
      "to_out False Sequential\n",
      "0 False Conv2d\n",
      "1 False GroupNorm\n",
      "to_qkv False Conv2d\n",
      "to_out False Sequential\n",
      "0 False Conv2d\n",
      "1 False GroupNorm\n"
     ]
    },
    {
     "data": {
      "text/plain": [
       "[]"
      ]
     },
     "execution_count": 53,
     "metadata": {},
     "output_type": "execute_result"
    }
   ],
   "source": [
    "tmp = find_modules(model,\n",
    "            ['LinearAttention'],\n",
    "            [nn.Linear],\n",
    "            [LoraInjectedLinear],\n",
    "            )\n",
    "list(tmp)"
   ]
  },
  {
   "cell_type": "code",
   "execution_count": 41,
   "metadata": {},
   "outputs": [
    {
     "name": "stdout",
     "output_type": "stream",
     "text": [
      " Unet\n",
      "init_conv Conv2d\n",
      "time_mlp Sequential\n",
      "time_mlp.0 SinusoidalPositionEmbeddings\n",
      "time_mlp.1 Linear\n",
      "time_mlp.2 GELU\n",
      "time_mlp.3 Linear\n",
      "downs ModuleList\n",
      "downs.0 ModuleList\n",
      "downs.0.0 ResnetBlock\n",
      "downs.0.0.mlp Sequential\n",
      "downs.0.0.mlp.0 SiLU\n",
      "downs.0.0.mlp.1 Linear\n",
      "downs.0.0.block1 Block\n",
      "downs.0.0.block1.proj WeightStandardizedConv2d\n",
      "downs.0.0.block1.norm GroupNorm\n",
      "downs.0.0.block1.act SiLU\n",
      "downs.0.0.block2 Block\n",
      "downs.0.0.block2.proj WeightStandardizedConv2d\n",
      "downs.0.0.block2.norm GroupNorm\n",
      "downs.0.0.block2.act SiLU\n",
      "downs.0.0.res_conv Identity\n",
      "downs.0.1 ResnetBlock\n",
      "downs.0.1.mlp Sequential\n",
      "downs.0.1.mlp.0 SiLU\n",
      "downs.0.1.mlp.1 Linear\n",
      "downs.0.1.block1 Block\n",
      "downs.0.1.block1.proj WeightStandardizedConv2d\n",
      "downs.0.1.block1.norm GroupNorm\n",
      "downs.0.1.block1.act SiLU\n",
      "downs.0.1.block2 Block\n",
      "downs.0.1.block2.proj WeightStandardizedConv2d\n",
      "downs.0.1.block2.norm GroupNorm\n",
      "downs.0.1.block2.act SiLU\n",
      "downs.0.1.res_conv Identity\n",
      "downs.0.2 Residual\n",
      "downs.0.2.fn PreNorm\n",
      "downs.0.2.fn.fn LinearAttention\n",
      "downs.0.2.fn.fn.to_qkv Conv2d\n",
      "downs.0.2.fn.fn.to_out Sequential\n",
      "downs.0.2.fn.fn.to_out.0 Conv2d\n",
      "downs.0.2.fn.fn.to_out.1 GroupNorm\n",
      "downs.0.2.fn.norm GroupNorm\n",
      "downs.0.3 Sequential\n",
      "downs.0.3.0 Rearrange\n",
      "downs.0.3.1 Conv2d\n",
      "downs.1 ModuleList\n",
      "downs.1.0 ResnetBlock\n",
      "downs.1.0.mlp Sequential\n",
      "downs.1.0.mlp.0 SiLU\n",
      "downs.1.0.mlp.1 Linear\n",
      "downs.1.0.block1 Block\n",
      "downs.1.0.block1.proj WeightStandardizedConv2d\n",
      "downs.1.0.block1.norm GroupNorm\n",
      "downs.1.0.block1.act SiLU\n",
      "downs.1.0.block2 Block\n",
      "downs.1.0.block2.proj WeightStandardizedConv2d\n",
      "downs.1.0.block2.norm GroupNorm\n",
      "downs.1.0.block2.act SiLU\n",
      "downs.1.0.res_conv Identity\n",
      "downs.1.1 ResnetBlock\n",
      "downs.1.1.mlp Sequential\n",
      "downs.1.1.mlp.0 SiLU\n",
      "downs.1.1.mlp.1 Linear\n",
      "downs.1.1.block1 Block\n",
      "downs.1.1.block1.proj WeightStandardizedConv2d\n",
      "downs.1.1.block1.norm GroupNorm\n",
      "downs.1.1.block1.act SiLU\n",
      "downs.1.1.block2 Block\n",
      "downs.1.1.block2.proj WeightStandardizedConv2d\n",
      "downs.1.1.block2.norm GroupNorm\n",
      "downs.1.1.block2.act SiLU\n",
      "downs.1.1.res_conv Identity\n",
      "downs.1.2 Residual\n",
      "downs.1.2.fn PreNorm\n",
      "downs.1.2.fn.fn LinearAttention\n",
      "downs.1.2.fn.fn.to_qkv Conv2d\n",
      "downs.1.2.fn.fn.to_out Sequential\n",
      "downs.1.2.fn.fn.to_out.0 Conv2d\n",
      "downs.1.2.fn.fn.to_out.1 GroupNorm\n",
      "downs.1.2.fn.norm GroupNorm\n",
      "downs.1.3 Sequential\n",
      "downs.1.3.0 Rearrange\n",
      "downs.1.3.1 Conv2d\n",
      "downs.2 ModuleList\n",
      "downs.2.0 ResnetBlock\n",
      "downs.2.0.mlp Sequential\n",
      "downs.2.0.mlp.0 SiLU\n",
      "downs.2.0.mlp.1 Linear\n",
      "downs.2.0.block1 Block\n",
      "downs.2.0.block1.proj WeightStandardizedConv2d\n",
      "downs.2.0.block1.norm GroupNorm\n",
      "downs.2.0.block1.act SiLU\n",
      "downs.2.0.block2 Block\n",
      "downs.2.0.block2.proj WeightStandardizedConv2d\n",
      "downs.2.0.block2.norm GroupNorm\n",
      "downs.2.0.block2.act SiLU\n",
      "downs.2.0.res_conv Identity\n",
      "downs.2.1 ResnetBlock\n",
      "downs.2.1.mlp Sequential\n",
      "downs.2.1.mlp.0 SiLU\n",
      "downs.2.1.mlp.1 Linear\n",
      "downs.2.1.block1 Block\n",
      "downs.2.1.block1.proj WeightStandardizedConv2d\n",
      "downs.2.1.block1.norm GroupNorm\n",
      "downs.2.1.block1.act SiLU\n",
      "downs.2.1.block2 Block\n",
      "downs.2.1.block2.proj WeightStandardizedConv2d\n",
      "downs.2.1.block2.norm GroupNorm\n",
      "downs.2.1.block2.act SiLU\n",
      "downs.2.1.res_conv Identity\n",
      "downs.2.2 Residual\n",
      "downs.2.2.fn PreNorm\n",
      "downs.2.2.fn.fn LinearAttention\n",
      "downs.2.2.fn.fn.to_qkv Conv2d\n",
      "downs.2.2.fn.fn.to_out Sequential\n",
      "downs.2.2.fn.fn.to_out.0 Conv2d\n",
      "downs.2.2.fn.fn.to_out.1 GroupNorm\n",
      "downs.2.2.fn.norm GroupNorm\n",
      "downs.2.3 Conv2d\n",
      "ups ModuleList\n",
      "ups.0 ModuleList\n",
      "ups.0.0 ResnetBlock\n",
      "ups.0.0.mlp Sequential\n",
      "ups.0.0.mlp.0 SiLU\n",
      "ups.0.0.mlp.1 Linear\n",
      "ups.0.0.block1 Block\n",
      "ups.0.0.block1.proj WeightStandardizedConv2d\n",
      "ups.0.0.block1.norm GroupNorm\n",
      "ups.0.0.block1.act SiLU\n",
      "ups.0.0.block2 Block\n",
      "ups.0.0.block2.proj WeightStandardizedConv2d\n",
      "ups.0.0.block2.norm GroupNorm\n",
      "ups.0.0.block2.act SiLU\n",
      "ups.0.0.res_conv Conv2d\n",
      "ups.0.1 ResnetBlock\n",
      "ups.0.1.mlp Sequential\n",
      "ups.0.1.mlp.0 SiLU\n",
      "ups.0.1.mlp.1 Linear\n",
      "ups.0.1.block1 Block\n",
      "ups.0.1.block1.proj WeightStandardizedConv2d\n",
      "ups.0.1.block1.norm GroupNorm\n",
      "ups.0.1.block1.act SiLU\n",
      "ups.0.1.block2 Block\n",
      "ups.0.1.block2.proj WeightStandardizedConv2d\n",
      "ups.0.1.block2.norm GroupNorm\n",
      "ups.0.1.block2.act SiLU\n",
      "ups.0.1.res_conv Conv2d\n",
      "ups.0.2 Residual\n",
      "ups.0.2.fn PreNorm\n",
      "ups.0.2.fn.fn LinearAttention\n",
      "ups.0.2.fn.fn.to_qkv Conv2d\n",
      "ups.0.2.fn.fn.to_out Sequential\n",
      "ups.0.2.fn.fn.to_out.0 Conv2d\n",
      "ups.0.2.fn.fn.to_out.1 GroupNorm\n",
      "ups.0.2.fn.norm GroupNorm\n",
      "ups.0.3 Sequential\n",
      "ups.0.3.0 Upsample\n",
      "ups.0.3.1 Conv2d\n",
      "ups.1 ModuleList\n",
      "ups.1.0 ResnetBlock\n",
      "ups.1.0.mlp Sequential\n",
      "ups.1.0.mlp.0 SiLU\n",
      "ups.1.0.mlp.1 Linear\n",
      "ups.1.0.block1 Block\n",
      "ups.1.0.block1.proj WeightStandardizedConv2d\n",
      "ups.1.0.block1.norm GroupNorm\n",
      "ups.1.0.block1.act SiLU\n",
      "ups.1.0.block2 Block\n",
      "ups.1.0.block2.proj WeightStandardizedConv2d\n",
      "ups.1.0.block2.norm GroupNorm\n",
      "ups.1.0.block2.act SiLU\n",
      "ups.1.0.res_conv Conv2d\n",
      "ups.1.1 ResnetBlock\n",
      "ups.1.1.mlp Sequential\n",
      "ups.1.1.mlp.0 SiLU\n",
      "ups.1.1.mlp.1 Linear\n",
      "ups.1.1.block1 Block\n",
      "ups.1.1.block1.proj WeightStandardizedConv2d\n",
      "ups.1.1.block1.norm GroupNorm\n",
      "ups.1.1.block1.act SiLU\n",
      "ups.1.1.block2 Block\n",
      "ups.1.1.block2.proj WeightStandardizedConv2d\n",
      "ups.1.1.block2.norm GroupNorm\n",
      "ups.1.1.block2.act SiLU\n",
      "ups.1.1.res_conv Conv2d\n",
      "ups.1.2 Residual\n",
      "ups.1.2.fn PreNorm\n",
      "ups.1.2.fn.fn LinearAttention\n",
      "ups.1.2.fn.fn.to_qkv Conv2d\n",
      "ups.1.2.fn.fn.to_out Sequential\n",
      "ups.1.2.fn.fn.to_out.0 Conv2d\n",
      "ups.1.2.fn.fn.to_out.1 GroupNorm\n",
      "ups.1.2.fn.norm GroupNorm\n",
      "ups.1.3 Sequential\n",
      "ups.1.3.0 Upsample\n",
      "ups.1.3.1 Conv2d\n",
      "ups.2 ModuleList\n",
      "ups.2.0 ResnetBlock\n",
      "ups.2.0.mlp Sequential\n",
      "ups.2.0.mlp.0 SiLU\n",
      "ups.2.0.mlp.1 Linear\n",
      "ups.2.0.block1 Block\n",
      "ups.2.0.block1.proj WeightStandardizedConv2d\n",
      "ups.2.0.block1.norm GroupNorm\n",
      "ups.2.0.block1.act SiLU\n",
      "ups.2.0.block2 Block\n",
      "ups.2.0.block2.proj WeightStandardizedConv2d\n",
      "ups.2.0.block2.norm GroupNorm\n",
      "ups.2.0.block2.act SiLU\n",
      "ups.2.0.res_conv Conv2d\n",
      "ups.2.1 ResnetBlock\n",
      "ups.2.1.mlp Sequential\n",
      "ups.2.1.mlp.0 SiLU\n",
      "ups.2.1.mlp.1 Linear\n",
      "ups.2.1.block1 Block\n",
      "ups.2.1.block1.proj WeightStandardizedConv2d\n",
      "ups.2.1.block1.norm GroupNorm\n",
      "ups.2.1.block1.act SiLU\n",
      "ups.2.1.block2 Block\n",
      "ups.2.1.block2.proj WeightStandardizedConv2d\n",
      "ups.2.1.block2.norm GroupNorm\n",
      "ups.2.1.block2.act SiLU\n",
      "ups.2.1.res_conv Conv2d\n",
      "ups.2.2 Residual\n",
      "ups.2.2.fn PreNorm\n",
      "ups.2.2.fn.fn LinearAttention\n",
      "ups.2.2.fn.fn.to_qkv Conv2d\n",
      "ups.2.2.fn.fn.to_out Sequential\n",
      "ups.2.2.fn.fn.to_out.0 Conv2d\n",
      "ups.2.2.fn.fn.to_out.1 GroupNorm\n",
      "ups.2.2.fn.norm GroupNorm\n",
      "ups.2.3 Conv2d\n",
      "mid_block1 ResnetBlock\n",
      "mid_block1.mlp Sequential\n",
      "mid_block1.mlp.0 SiLU\n",
      "mid_block1.mlp.1 Linear\n",
      "mid_block1.block1 Block\n",
      "mid_block1.block1.proj WeightStandardizedConv2d\n",
      "mid_block1.block1.norm GroupNorm\n",
      "mid_block1.block1.act SiLU\n",
      "mid_block1.block2 Block\n",
      "mid_block1.block2.proj WeightStandardizedConv2d\n",
      "mid_block1.block2.norm GroupNorm\n",
      "mid_block1.block2.act SiLU\n",
      "mid_block1.res_conv Identity\n",
      "mid_attn Residual\n",
      "mid_attn.fn PreNorm\n",
      "mid_attn.fn.fn Attention\n",
      "mid_attn.fn.fn.to_qkv Conv2d\n",
      "mid_attn.fn.fn.to_out Conv2d\n",
      "mid_attn.fn.norm GroupNorm\n",
      "mid_block2 ResnetBlock\n",
      "mid_block2.mlp Sequential\n",
      "mid_block2.mlp.0 SiLU\n",
      "mid_block2.mlp.1 Linear\n",
      "mid_block2.block1 Block\n",
      "mid_block2.block1.proj WeightStandardizedConv2d\n",
      "mid_block2.block1.norm GroupNorm\n",
      "mid_block2.block1.act SiLU\n",
      "mid_block2.block2 Block\n",
      "mid_block2.block2.proj WeightStandardizedConv2d\n",
      "mid_block2.block2.norm GroupNorm\n",
      "mid_block2.block2.act SiLU\n",
      "mid_block2.res_conv Identity\n",
      "final_res_block ResnetBlock\n",
      "final_res_block.mlp Sequential\n",
      "final_res_block.mlp.0 SiLU\n",
      "final_res_block.mlp.1 Linear\n",
      "final_res_block.block1 Block\n",
      "final_res_block.block1.proj WeightStandardizedConv2d\n",
      "final_res_block.block1.norm GroupNorm\n",
      "final_res_block.block1.act SiLU\n",
      "final_res_block.block2 Block\n",
      "final_res_block.block2.proj WeightStandardizedConv2d\n",
      "final_res_block.block2.norm GroupNorm\n",
      "final_res_block.block2.act SiLU\n",
      "final_res_block.res_conv Conv2d\n",
      "final_conv Conv2d\n"
     ]
    }
   ],
   "source": [
    "for a, b in model.named_modules():\n",
    "    print(a, b.__class__.__name__)"
   ]
  },
  {
   "cell_type": "code",
   "execution_count": 28,
   "metadata": {},
   "outputs": [],
   "source": [
    "inject_lora(model, 1, 0.1, \n",
    "            ['LinearAttention'],\n",
    "            [nn.Linear],\n",
    "            [LoraInjectedLinear],\n",
    "            verbose=True\n",
    "            )"
   ]
  },
  {
   "attachments": {},
   "cell_type": "markdown",
   "metadata": {},
   "source": [
    "# Training"
   ]
  },
  {
   "cell_type": "code",
   "execution_count": 25,
   "metadata": {},
   "outputs": [
    {
     "name": "stdout",
     "output_type": "stream",
     "text": [
      "Loss: 0.431885689496994\n",
      "Loss: 0.06605594605207443\n"
     ]
    }
   ],
   "source": [
    "epochs = 6\n",
    "\n",
    "for epoch in range(epochs):\n",
    "    for step, batch in enumerate(dataloader):\n",
    "      optimizer.zero_grad()\n",
    "\n",
    "      batch_size = batch[\"pixel_values\"].shape[0]\n",
    "      batch = batch[\"pixel_values\"].to(device)\n",
    "\n",
    "      # Algorithm 1 line 3: sample t uniformally for every example in the batch\n",
    "      t = torch.randint(0, sampler.timesteps, (batch_size,), device=device).long()\n",
    "\n",
    "      loss = sampler.p_losses(model, batch, t, loss_type=\"huber\")\n",
    "\n",
    "      if step % 100 == 0:\n",
    "        print(\"Loss:\", loss.item())\n",
    "\n",
    "      loss.backward()\n",
    "      optimizer.step()\n",
    "\n",
    "      # save generated images\n",
    "      if step != 0 and step % save_and_sample_every == 0:\n",
    "        milestone = step // save_and_sample_every\n",
    "        batches = num_to_groups(4, batch_size)\n",
    "        all_images_list = list(map(lambda n: sampler.sample(model, batch_size=n, channels=channels), batches))\n",
    "        all_images = torch.cat(all_images_list, dim=0)\n",
    "        all_images = (all_images + 1) * 0.5\n",
    "        save_image(all_images, str(results_folder / f'sample-{milestone}.png'), nrow = 6)"
   ]
  },
  {
   "attachments": {},
   "cell_type": "markdown",
   "metadata": {},
   "source": [
    "# Sampling"
   ]
  },
  {
   "cell_type": "code",
   "execution_count": null,
   "metadata": {},
   "outputs": [
    {
     "data": {
      "text/plain": [
       "<matplotlib.image.AxesImage at 0x7f8a201b72e0>"
      ]
     },
     "execution_count": 18,
     "metadata": {},
     "output_type": "execute_result"
    },
    {
     "data": {
      "image/png": "[encoded data removed]",
      "text/plain": [
       "<Figure size 640x480 with 1 Axes>"
      ]
     },
     "metadata": {},
     "output_type": "display_data"
    }
   ],
   "source": [
    "# sample 64 images\n",
    "samples = sampler.sample(model, image_size=image_size, batch_size=1, channels=channels)\n",
    "\n",
    "# show a random one\n",
    "random_index = 0\n",
    "plt.imshow(samples[-1][random_index].reshape(image_size, image_size, channels), cmap=\"gray\")"
   ]
  },
  {
   "cell_type": "code",
   "execution_count": null,
   "metadata": {},
   "outputs": [
    {
     "name": "stderr",
     "output_type": "stream",
     "text": [
      "MovieWriter ffmpeg unavailable; using Pillow instead.\n"
     ]
    },
    {
     "data": {
      "image/png": "[encoded data removed]",
      "text/plain": [
       "<Figure size 640x480 with 1 Axes>"
      ]
     },
     "metadata": {},
     "output_type": "display_data"
    }
   ],
   "source": [
    "import matplotlib.animation as animation\n",
    "\n",
    "random_index = 0\n",
    "\n",
    "fig = plt.figure()\n",
    "ims = []\n",
    "for i in range(sampler.timesteps):\n",
    "    im = plt.imshow(samples[i][random_index].reshape(image_size, image_size, channels), cmap=\"gray\", animated=True)\n",
    "    ims.append([im])\n",
    "\n",
    "animate = animation.ArtistAnimation(fig, ims, interval=50, blit=True, repeat_delay=1000)\n",
    "animate.save('diffusion.gif')\n",
    "plt.show()"
   ]
  }
 ],
 "metadata": {
  "kernelspec": {
   "display_name": "base",
   "language": "python",
   "name": "python3"
  },
  "language_info": {
   "codemirror_mode": {
    "name": "ipython",
    "version": 3
   },
   "file_extension": ".py",
   "mimetype": "text/x-python",
   "name": "python",
   "nbconvert_exporter": "python",
   "pygments_lexer": "ipython3",
   "version": "3.10.10"
  },
  "orig_nbformat": 4
 },
 "nbformat": 4,
 "nbformat_minor": 2
}
